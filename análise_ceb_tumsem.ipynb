{
  "cells": [
    {
      "cell_type": "markdown",
      "metadata": {
        "id": "xdF70fW7itqq"
      },
      "source": [
        "# Análise dos dados de tumor no cerebro\n",
        "\n",
        "---\n",
        "\n"
      ]
    },
    {
      "cell_type": "markdown",
      "metadata": {
        "id": "_IV0Q0H6i2Jx"
      },
      "source": [
        "Pacotes a serem utilizados"
      ]
    },
    {
      "cell_type": "code",
      "execution_count": 2,
      "metadata": {
        "id": "0Ok_Zyqniz1X"
      },
      "outputs": [],
      "source": [
        "import warnings\n",
        "warnings.filterwarnings('always')\n",
        "warnings.filterwarnings('ignore')\n",
        "import numpy as np\n",
        "import pandas as pd\n",
        "import matplotlib.pyplot as plt\n",
        "%matplotlib inline\n",
        "import seaborn as sns\n",
        "import random\n",
        "import tensorflow as tf\n",
        "import cv2\n",
        "import cv2 as cv\n",
        "import glob\n",
        "import skimage.io\n",
        "import shutil\n",
        "import zipfile\n",
        "import io\n",
        "import os\n",
        "from os import listdir\n",
        "from PIL import Image, ImageFilter\n",
        "#import imutils\n",
        "import time\n",
        "import scipy.ndimage\n",
        "import copy\n",
        "from google.colab import files\n",
        "from random import shuffle\n",
        "from tensorflow.keras.optimizers import Nadam\n",
        "from tensorflow.keras.utils import to_categorical\n",
        "from tensorflow.keras.models import Sequential,Model, load_model\n",
        "from tensorflow.keras.layers import Dense, Conv2D, Flatten, Dropout, MaxPooling2D, Input, ZeroPadding2D, BatchNormalization, Activation\n",
        "from sklearn.metrics import confusion_matrix\n",
        "from tensorflow.keras.preprocessing.image import ImageDataGenerator\n",
        "from tensorflow.keras import losses\n",
        "from sklearn.model_selection import train_test_split\n",
        "from sklearn.cluster import KMeans\n",
        "from mpl_toolkits.mplot3d.art3d import Poly3DCollection\n",
        "from skimage import morphology\n",
        "from skimage import measure,filters\n",
        "from skimage.transform import resize\n",
        "from skimage.morphology import erosion, dilation, opening, closing, white_tophat, black_tophat, skeletonize, convex_hull_image, disk\n",
        "from skimage.data import data_dir\n",
        "from skimage.util import img_as_ubyte\n",
        "from plotly import __version__\n",
        "from plotly.offline import download_plotlyjs, init_notebook_mode, plot, iplot\n",
        "from plotly.tools import FigureFactory as FF\n",
        "from plotly.graph_objs import *\n",
        "from tensorflow.keras.callbacks import TensorBoard, ModelCheckpoint,EarlyStopping\n",
        "from sklearn.metrics import f1_score\n",
        "from sklearn.utils import shuffle\n",
        "from PIL import Image, ImageDraw, ImageFilter"
      ]
    },
    {
      "cell_type": "markdown",
      "metadata": {
        "id": "A-52SIKcpfod"
      },
      "source": [
        "carregando a base de dados"
      ]
    },
    {
      "cell_type": "code",
      "execution_count": null,
      "metadata": {
        "colab": {
          "base_uri": "https://localhost:8080/"
        },
        "id": "-1AXztwWjk_y",
        "outputId": "99dade15-bd63-4595-9ca5-17baec9ef421"
      },
      "outputs": [
        {
          "output_type": "stream",
          "name": "stdout",
          "text": [
            "Mounted at /content/drive\n"
          ]
        }
      ],
      "source": [
        "from google.colab import drive\n",
        "drive.mount('/content/drive')"
      ]
    },
    {
      "cell_type": "code",
      "execution_count": null,
      "metadata": {
        "id": "t-PVnGo6qC9P"
      },
      "outputs": [],
      "source": [
        "dir_list = ['/content/drive/MyDrive/cort2/no/','/content/drive/MyDrive/cort2/yes/']"
      ]
    },
    {
      "cell_type": "code",
      "execution_count": null,
      "metadata": {
        "id": "CmYji6NaqDd9"
      },
      "outputs": [],
      "source": [
        "def load_data(dir_list):\n",
        "\n",
        "    # load all images in a directory\n",
        "    X = []\n",
        "    y = []\n",
        "\n",
        "    for directory in dir_list:\n",
        "        for filename in listdir(directory):\n",
        "            image = cv2.imread(directory + filename)\n",
        "            image = image / 255.\n",
        "            X.append(image)\n",
        "            if directory == '/content/drive/MyDrive/cort2/yes/':\n",
        "                y.append([1])\n",
        "            else:\n",
        "                y.append([0])\n",
        "\n",
        "    X = np.array(X)\n",
        "    y = np.array(y)\n",
        "\n",
        "    print(f'Number of examples is: {len(X)}')\n",
        "    print(f'X shape is: {X.shape}')\n",
        "    print(f'y shape is: {y.shape}')\n",
        "\n",
        "    return X, y"
      ]
    },
    {
      "cell_type": "code",
      "execution_count": null,
      "metadata": {
        "colab": {
          "base_uri": "https://localhost:8080/"
        },
        "id": "bmxJHt8GqH-F",
        "outputId": "1100d40d-c293-4036-f0c7-0d4a85712fa9"
      },
      "outputs": [
        {
          "output_type": "stream",
          "name": "stdout",
          "text": [
            "Number of examples is: 253\n",
            "X shape is: (253, 256, 256, 3)\n",
            "y shape is: (253, 1)\n"
          ]
        }
      ],
      "source": [
        "X, y = load_data(dir_list)"
      ]
    },
    {
      "cell_type": "markdown",
      "metadata": {
        "id": "vCZzXMQOi0F6"
      },
      "source": [
        "divisão treinamento teste e validação"
      ]
    },
    {
      "cell_type": "code",
      "execution_count": null,
      "metadata": {
        "id": "O6X2EIOUjuZa"
      },
      "outputs": [],
      "source": [
        "def split_data(X, y, test_size=0.3):\n",
        "\n",
        "    X_train, X_test_val, y_train, y_test_val = train_test_split(X, y, test_size=test_size)\n",
        "    X_test, X_val, y_test, y_val = train_test_split(X_test_val, y_test_val, test_size=0.5)\n",
        "\n",
        "    return X_train, y_train, X_val, y_val, X_test, y_test"
      ]
    },
    {
      "cell_type": "code",
      "execution_count": null,
      "metadata": {
        "id": "D2eDI1RLqcNS"
      },
      "outputs": [],
      "source": [
        "X_train, y_train, X_val, y_val, X_test, y_test = split_data(X, y, test_size=0.3)"
      ]
    },
    {
      "cell_type": "code",
      "execution_count": null,
      "metadata": {
        "id": "iubKEExXqeJ2"
      },
      "outputs": [],
      "source": [
        "X_train = X_train.astype('float32')\n",
        "X_test = X_test.astype('float32')\n",
        "X_val = X_val.astype('float32')"
      ]
    },
    {
      "cell_type": "code",
      "execution_count": null,
      "metadata": {
        "id": "s1LEFJMKqgr6"
      },
      "outputs": [],
      "source": [
        "y_train = tf.keras.utils.to_categorical(y_train)\n",
        "y_test = tf.keras.utils.to_categorical(y_test)\n",
        "y_val = tf.keras.utils.to_categorical(y_val)"
      ]
    },
    {
      "cell_type": "markdown",
      "metadata": {
        "id": "VCD9J_JJjy-R"
      },
      "source": [
        "# Modelo"
      ]
    },
    {
      "cell_type": "code",
      "execution_count": null,
      "metadata": {
        "id": "YDSa0NxFj115"
      },
      "outputs": [],
      "source": [
        "vgg16 = tf.keras.applications.VGG16(input_shape=(256,256,3), include_top = False, weights= 'imagenet')"
      ]
    },
    {
      "cell_type": "code",
      "execution_count": null,
      "metadata": {
        "id": "2rrCoUoSrskK"
      },
      "outputs": [],
      "source": [
        "x = vgg16.output\n",
        "x = Flatten()(x)\n",
        "x = Dense(256,activation='relu')(x)\n",
        "x = Dropout(0.5)(x)\n",
        "out = Dense(2,activation='sigmoid')(x)\n",
        "tf_model=Model(inputs=vgg16.input,outputs=out)\n",
        "#\n",
        "tf_model.compile(optimizer=tf.keras.optimizers.Adadelta(),loss=tf.keras.losses.binary_crossentropy, metrics=['accuracy'])\n",
        "#tf_model.summary()\n",
        "for layer in tf_model.layers[:20]:\n",
        "    layer.trainable=False"
      ]
    },
    {
      "cell_type": "code",
      "execution_count": null,
      "metadata": {
        "colab": {
          "base_uri": "https://localhost:8080/"
        },
        "id": "09UYR9POru8m",
        "outputId": "e430af24-e745-4ac2-a6d7-e403df20db96"
      },
      "outputs": [
        {
          "output_type": "stream",
          "name": "stdout",
          "text": [
            "Epoch 1/300\n",
            "\u001b[1m6/6\u001b[0m \u001b[32m━━━━━━━━━━━━━━━━━━━━\u001b[0m\u001b[37m\u001b[0m \u001b[1m47s\u001b[0m 5s/step - accuracy: 0.5583 - loss: 0.8135 - val_accuracy: 0.5526 - val_loss: 0.7729\n",
            "Epoch 2/300\n",
            "\u001b[1m6/6\u001b[0m \u001b[32m━━━━━━━━━━━━━━━━━━━━\u001b[0m\u001b[37m\u001b[0m \u001b[1m39s\u001b[0m 215ms/step - accuracy: 0.4600 - loss: 0.8690 - val_accuracy: 0.6053 - val_loss: 0.7459\n",
            "Epoch 3/300\n",
            "\u001b[1m6/6\u001b[0m \u001b[32m━━━━━━━━━━━━━━━━━━━━\u001b[0m\u001b[37m\u001b[0m \u001b[1m1s\u001b[0m 217ms/step - accuracy: 0.5906 - loss: 0.7606 - val_accuracy: 0.5789 - val_loss: 0.7283\n",
            "Epoch 4/300\n",
            "\u001b[1m6/6\u001b[0m \u001b[32m━━━━━━━━━━━━━━━━━━━━\u001b[0m\u001b[37m\u001b[0m \u001b[1m1s\u001b[0m 220ms/step - accuracy: 0.6150 - loss: 0.7399 - val_accuracy: 0.5789 - val_loss: 0.7178\n",
            "Epoch 5/300\n",
            "\u001b[1m6/6\u001b[0m \u001b[32m━━━━━━━━━━━━━━━━━━━━\u001b[0m\u001b[37m\u001b[0m \u001b[1m1s\u001b[0m 199ms/step - accuracy: 0.5973 - loss: 0.7246 - val_accuracy: 0.5789 - val_loss: 0.7097\n",
            "Epoch 6/300\n",
            "\u001b[1m6/6\u001b[0m \u001b[32m━━━━━━━━━━━━━━━━━━━━\u001b[0m\u001b[37m\u001b[0m \u001b[1m1s\u001b[0m 197ms/step - accuracy: 0.5920 - loss: 0.7129 - val_accuracy: 0.5526 - val_loss: 0.7070\n",
            "Epoch 7/300\n",
            "\u001b[1m6/6\u001b[0m \u001b[32m━━━━━━━━━━━━━━━━━━━━\u001b[0m\u001b[37m\u001b[0m \u001b[1m1s\u001b[0m 224ms/step - accuracy: 0.5501 - loss: 0.7456 - val_accuracy: 0.5526 - val_loss: 0.7027\n",
            "Epoch 8/300\n",
            "\u001b[1m6/6\u001b[0m \u001b[32m━━━━━━━━━━━━━━━━━━━━\u001b[0m\u001b[37m\u001b[0m \u001b[1m1s\u001b[0m 206ms/step - accuracy: 0.6173 - loss: 0.6925 - val_accuracy: 0.5789 - val_loss: 0.6992\n",
            "Epoch 9/300\n",
            "\u001b[1m6/6\u001b[0m \u001b[32m━━━━━━━━━━━━━━━━━━━━\u001b[0m\u001b[37m\u001b[0m \u001b[1m1s\u001b[0m 225ms/step - accuracy: 0.5953 - loss: 0.7158 - val_accuracy: 0.5789 - val_loss: 0.6975\n",
            "Epoch 10/300\n",
            "\u001b[1m6/6\u001b[0m \u001b[32m━━━━━━━━━━━━━━━━━━━━\u001b[0m\u001b[37m\u001b[0m \u001b[1m1s\u001b[0m 218ms/step - accuracy: 0.5997 - loss: 0.7064 - val_accuracy: 0.5789 - val_loss: 0.6973\n",
            "Epoch 11/300\n",
            "\u001b[1m6/6\u001b[0m \u001b[32m━━━━━━━━━━━━━━━━━━━━\u001b[0m\u001b[37m\u001b[0m \u001b[1m1s\u001b[0m 220ms/step - accuracy: 0.6373 - loss: 0.6792 - val_accuracy: 0.6053 - val_loss: 0.6960\n",
            "Epoch 12/300\n",
            "\u001b[1m6/6\u001b[0m \u001b[32m━━━━━━━━━━━━━━━━━━━━\u001b[0m\u001b[37m\u001b[0m \u001b[1m3s\u001b[0m 225ms/step - accuracy: 0.6317 - loss: 0.6816 - val_accuracy: 0.6053 - val_loss: 0.6951\n",
            "Epoch 13/300\n",
            "\u001b[1m6/6\u001b[0m \u001b[32m━━━━━━━━━━━━━━━━━━━━\u001b[0m\u001b[37m\u001b[0m \u001b[1m3s\u001b[0m 219ms/step - accuracy: 0.5843 - loss: 0.7023 - val_accuracy: 0.6053 - val_loss: 0.6943\n",
            "Epoch 14/300\n",
            "\u001b[1m6/6\u001b[0m \u001b[32m━━━━━━━━━━━━━━━━━━━━\u001b[0m\u001b[37m\u001b[0m \u001b[1m1s\u001b[0m 201ms/step - accuracy: 0.6086 - loss: 0.6988 - val_accuracy: 0.6053 - val_loss: 0.6915\n",
            "Epoch 15/300\n",
            "\u001b[1m6/6\u001b[0m \u001b[32m━━━━━━━━━━━━━━━━━━━━\u001b[0m\u001b[37m\u001b[0m \u001b[1m1s\u001b[0m 197ms/step - accuracy: 0.6405 - loss: 0.6764 - val_accuracy: 0.6053 - val_loss: 0.6901\n",
            "Epoch 16/300\n",
            "\u001b[1m6/6\u001b[0m \u001b[32m━━━━━━━━━━━━━━━━━━━━\u001b[0m\u001b[37m\u001b[0m \u001b[1m1s\u001b[0m 222ms/step - accuracy: 0.6238 - loss: 0.6731 - val_accuracy: 0.6053 - val_loss: 0.6890\n",
            "Epoch 17/300\n",
            "\u001b[1m6/6\u001b[0m \u001b[32m━━━━━━━━━━━━━━━━━━━━\u001b[0m\u001b[37m\u001b[0m \u001b[1m3s\u001b[0m 221ms/step - accuracy: 0.6602 - loss: 0.6584 - val_accuracy: 0.6316 - val_loss: 0.6871\n",
            "Epoch 18/300\n",
            "\u001b[1m6/6\u001b[0m \u001b[32m━━━━━━━━━━━━━━━━━━━━\u001b[0m\u001b[37m\u001b[0m \u001b[1m1s\u001b[0m 201ms/step - accuracy: 0.6548 - loss: 0.6458 - val_accuracy: 0.6316 - val_loss: 0.6846\n",
            "Epoch 19/300\n",
            "\u001b[1m6/6\u001b[0m \u001b[32m━━━━━━━━━━━━━━━━━━━━\u001b[0m\u001b[37m\u001b[0m \u001b[1m1s\u001b[0m 202ms/step - accuracy: 0.6281 - loss: 0.6824 - val_accuracy: 0.6316 - val_loss: 0.6839\n",
            "Epoch 20/300\n",
            "\u001b[1m6/6\u001b[0m \u001b[32m━━━━━━━━━━━━━━━━━━━━\u001b[0m\u001b[37m\u001b[0m \u001b[1m1s\u001b[0m 226ms/step - accuracy: 0.6792 - loss: 0.6544 - val_accuracy: 0.6316 - val_loss: 0.6818\n",
            "Epoch 21/300\n",
            "\u001b[1m6/6\u001b[0m \u001b[32m━━━━━━━━━━━━━━━━━━━━\u001b[0m\u001b[37m\u001b[0m \u001b[1m1s\u001b[0m 227ms/step - accuracy: 0.6128 - loss: 0.6887 - val_accuracy: 0.6316 - val_loss: 0.6805\n",
            "Epoch 22/300\n",
            "\u001b[1m6/6\u001b[0m \u001b[32m━━━━━━━━━━━━━━━━━━━━\u001b[0m\u001b[37m\u001b[0m \u001b[1m2s\u001b[0m 220ms/step - accuracy: 0.6763 - loss: 0.6473 - val_accuracy: 0.6316 - val_loss: 0.6788\n",
            "Epoch 23/300\n",
            "\u001b[1m6/6\u001b[0m \u001b[32m━━━━━━━━━━━━━━━━━━━━\u001b[0m\u001b[37m\u001b[0m \u001b[1m3s\u001b[0m 218ms/step - accuracy: 0.6487 - loss: 0.6541 - val_accuracy: 0.6316 - val_loss: 0.6772\n",
            "Epoch 24/300\n",
            "\u001b[1m6/6\u001b[0m \u001b[32m━━━━━━━━━━━━━━━━━━━━\u001b[0m\u001b[37m\u001b[0m \u001b[1m2s\u001b[0m 203ms/step - accuracy: 0.6461 - loss: 0.6500 - val_accuracy: 0.6316 - val_loss: 0.6752\n",
            "Epoch 25/300\n",
            "\u001b[1m6/6\u001b[0m \u001b[32m━━━━━━━━━━━━━━━━━━━━\u001b[0m\u001b[37m\u001b[0m \u001b[1m1s\u001b[0m 221ms/step - accuracy: 0.6426 - loss: 0.6608 - val_accuracy: 0.6316 - val_loss: 0.6736\n",
            "Epoch 26/300\n",
            "\u001b[1m6/6\u001b[0m \u001b[32m━━━━━━━━━━━━━━━━━━━━\u001b[0m\u001b[37m\u001b[0m \u001b[1m3s\u001b[0m 227ms/step - accuracy: 0.6940 - loss: 0.6404 - val_accuracy: 0.6316 - val_loss: 0.6712\n",
            "Epoch 27/300\n",
            "\u001b[1m6/6\u001b[0m \u001b[32m━━━━━━━━━━━━━━━━━━━━\u001b[0m\u001b[37m\u001b[0m \u001b[1m1s\u001b[0m 224ms/step - accuracy: 0.6290 - loss: 0.6746 - val_accuracy: 0.6316 - val_loss: 0.6711\n",
            "Epoch 28/300\n",
            "\u001b[1m6/6\u001b[0m \u001b[32m━━━━━━━━━━━━━━━━━━━━\u001b[0m\u001b[37m\u001b[0m \u001b[1m1s\u001b[0m 227ms/step - accuracy: 0.6874 - loss: 0.6258 - val_accuracy: 0.6316 - val_loss: 0.6707\n",
            "Epoch 29/300\n",
            "\u001b[1m6/6\u001b[0m \u001b[32m━━━━━━━━━━━━━━━━━━━━\u001b[0m\u001b[37m\u001b[0m \u001b[1m3s\u001b[0m 223ms/step - accuracy: 0.5865 - loss: 0.6877 - val_accuracy: 0.6316 - val_loss: 0.6689\n",
            "Epoch 30/300\n",
            "\u001b[1m6/6\u001b[0m \u001b[32m━━━━━━━━━━━━━━━━━━━━\u001b[0m\u001b[37m\u001b[0m \u001b[1m1s\u001b[0m 204ms/step - accuracy: 0.6248 - loss: 0.6756 - val_accuracy: 0.6316 - val_loss: 0.6670\n",
            "Epoch 31/300\n",
            "\u001b[1m6/6\u001b[0m \u001b[32m━━━━━━━━━━━━━━━━━━━━\u001b[0m\u001b[37m\u001b[0m \u001b[1m1s\u001b[0m 224ms/step - accuracy: 0.6725 - loss: 0.6158 - val_accuracy: 0.6316 - val_loss: 0.6646\n",
            "Epoch 32/300\n",
            "\u001b[1m6/6\u001b[0m \u001b[32m━━━━━━━━━━━━━━━━━━━━\u001b[0m\u001b[37m\u001b[0m \u001b[1m1s\u001b[0m 205ms/step - accuracy: 0.5842 - loss: 0.6690 - val_accuracy: 0.6316 - val_loss: 0.6641\n",
            "Epoch 33/300\n",
            "\u001b[1m6/6\u001b[0m \u001b[32m━━━━━━━━━━━━━━━━━━━━\u001b[0m\u001b[37m\u001b[0m \u001b[1m1s\u001b[0m 207ms/step - accuracy: 0.6586 - loss: 0.6445 - val_accuracy: 0.6316 - val_loss: 0.6629\n",
            "Epoch 34/300\n",
            "\u001b[1m6/6\u001b[0m \u001b[32m━━━━━━━━━━━━━━━━━━━━\u001b[0m\u001b[37m\u001b[0m \u001b[1m1s\u001b[0m 206ms/step - accuracy: 0.6676 - loss: 0.6464 - val_accuracy: 0.6316 - val_loss: 0.6599\n",
            "Epoch 35/300\n",
            "\u001b[1m6/6\u001b[0m \u001b[32m━━━━━━━━━━━━━━━━━━━━\u001b[0m\u001b[37m\u001b[0m \u001b[1m1s\u001b[0m 228ms/step - accuracy: 0.6518 - loss: 0.6393 - val_accuracy: 0.6579 - val_loss: 0.6580\n",
            "Epoch 36/300\n",
            "\u001b[1m6/6\u001b[0m \u001b[32m━━━━━━━━━━━━━━━━━━━━\u001b[0m\u001b[37m\u001b[0m \u001b[1m2s\u001b[0m 215ms/step - accuracy: 0.6660 - loss: 0.6425 - val_accuracy: 0.6316 - val_loss: 0.6573\n",
            "Epoch 37/300\n",
            "\u001b[1m6/6\u001b[0m \u001b[32m━━━━━━━━━━━━━━━━━━━━\u001b[0m\u001b[37m\u001b[0m \u001b[1m1s\u001b[0m 228ms/step - accuracy: 0.6255 - loss: 0.6475 - val_accuracy: 0.6316 - val_loss: 0.6560\n",
            "Epoch 38/300\n",
            "\u001b[1m6/6\u001b[0m \u001b[32m━━━━━━━━━━━━━━━━━━━━\u001b[0m\u001b[37m\u001b[0m \u001b[1m2s\u001b[0m 209ms/step - accuracy: 0.6891 - loss: 0.6102 - val_accuracy: 0.6316 - val_loss: 0.6535\n",
            "Epoch 39/300\n",
            "\u001b[1m6/6\u001b[0m \u001b[32m━━━━━━━━━━━━━━━━━━━━\u001b[0m\u001b[37m\u001b[0m \u001b[1m1s\u001b[0m 225ms/step - accuracy: 0.6389 - loss: 0.6515 - val_accuracy: 0.6316 - val_loss: 0.6524\n",
            "Epoch 40/300\n",
            "\u001b[1m6/6\u001b[0m \u001b[32m━━━━━━━━━━━━━━━━━━━━\u001b[0m\u001b[37m\u001b[0m \u001b[1m2s\u001b[0m 205ms/step - accuracy: 0.6695 - loss: 0.6496 - val_accuracy: 0.6053 - val_loss: 0.6517\n",
            "Epoch 41/300\n",
            "\u001b[1m6/6\u001b[0m \u001b[32m━━━━━━━━━━━━━━━━━━━━\u001b[0m\u001b[37m\u001b[0m \u001b[1m1s\u001b[0m 205ms/step - accuracy: 0.6609 - loss: 0.6307 - val_accuracy: 0.6316 - val_loss: 0.6500\n",
            "Epoch 42/300\n",
            "\u001b[1m6/6\u001b[0m \u001b[32m━━━━━━━━━━━━━━━━━━━━\u001b[0m\u001b[37m\u001b[0m \u001b[1m1s\u001b[0m 204ms/step - accuracy: 0.6694 - loss: 0.6256 - val_accuracy: 0.6316 - val_loss: 0.6482\n",
            "Epoch 43/300\n",
            "\u001b[1m6/6\u001b[0m \u001b[32m━━━━━━━━━━━━━━━━━━━━\u001b[0m\u001b[37m\u001b[0m \u001b[1m1s\u001b[0m 207ms/step - accuracy: 0.6936 - loss: 0.5911 - val_accuracy: 0.6316 - val_loss: 0.6472\n",
            "Epoch 44/300\n",
            "\u001b[1m6/6\u001b[0m \u001b[32m━━━━━━━━━━━━━━━━━━━━\u001b[0m\u001b[37m\u001b[0m \u001b[1m1s\u001b[0m 208ms/step - accuracy: 0.6216 - loss: 0.6462 - val_accuracy: 0.6053 - val_loss: 0.6457\n",
            "Epoch 45/300\n",
            "\u001b[1m6/6\u001b[0m \u001b[32m━━━━━━━━━━━━━━━━━━━━\u001b[0m\u001b[37m\u001b[0m \u001b[1m1s\u001b[0m 228ms/step - accuracy: 0.6281 - loss: 0.6424 - val_accuracy: 0.6316 - val_loss: 0.6455\n",
            "Epoch 46/300\n",
            "\u001b[1m6/6\u001b[0m \u001b[32m━━━━━━━━━━━━━━━━━━━━\u001b[0m\u001b[37m\u001b[0m \u001b[1m3s\u001b[0m 222ms/step - accuracy: 0.6880 - loss: 0.6055 - val_accuracy: 0.6053 - val_loss: 0.6426\n",
            "Epoch 47/300\n",
            "\u001b[1m6/6\u001b[0m \u001b[32m━━━━━━━━━━━━━━━━━━━━\u001b[0m\u001b[37m\u001b[0m \u001b[1m1s\u001b[0m 204ms/step - accuracy: 0.7061 - loss: 0.5805 - val_accuracy: 0.6053 - val_loss: 0.6416\n",
            "Epoch 48/300\n",
            "\u001b[1m6/6\u001b[0m \u001b[32m━━━━━━━━━━━━━━━━━━━━\u001b[0m\u001b[37m\u001b[0m \u001b[1m1s\u001b[0m 204ms/step - accuracy: 0.7140 - loss: 0.5838 - val_accuracy: 0.6053 - val_loss: 0.6404\n",
            "Epoch 49/300\n",
            "\u001b[1m6/6\u001b[0m \u001b[32m━━━━━━━━━━━━━━━━━━━━\u001b[0m\u001b[37m\u001b[0m \u001b[1m1s\u001b[0m 223ms/step - accuracy: 0.6788 - loss: 0.6037 - val_accuracy: 0.6053 - val_loss: 0.6408\n",
            "Epoch 50/300\n",
            "\u001b[1m6/6\u001b[0m \u001b[32m━━━━━━━━━━━━━━━━━━━━\u001b[0m\u001b[37m\u001b[0m \u001b[1m2s\u001b[0m 204ms/step - accuracy: 0.7337 - loss: 0.5671 - val_accuracy: 0.6053 - val_loss: 0.6398\n",
            "Epoch 51/300\n",
            "\u001b[1m6/6\u001b[0m \u001b[32m━━━━━━━━━━━━━━━━━━━━\u001b[0m\u001b[37m\u001b[0m \u001b[1m1s\u001b[0m 203ms/step - accuracy: 0.7222 - loss: 0.5778 - val_accuracy: 0.6316 - val_loss: 0.6376\n",
            "Epoch 52/300\n",
            "\u001b[1m6/6\u001b[0m \u001b[32m━━━━━━━━━━━━━━━━━━━━\u001b[0m\u001b[37m\u001b[0m \u001b[1m1s\u001b[0m 226ms/step - accuracy: 0.7502 - loss: 0.5626 - val_accuracy: 0.6316 - val_loss: 0.6358\n",
            "Epoch 53/300\n",
            "\u001b[1m6/6\u001b[0m \u001b[32m━━━━━━━━━━━━━━━━━━━━\u001b[0m\u001b[37m\u001b[0m \u001b[1m1s\u001b[0m 207ms/step - accuracy: 0.6817 - loss: 0.6123 - val_accuracy: 0.6316 - val_loss: 0.6344\n",
            "Epoch 54/300\n",
            "\u001b[1m6/6\u001b[0m \u001b[32m━━━━━━━━━━━━━━━━━━━━\u001b[0m\u001b[37m\u001b[0m \u001b[1m1s\u001b[0m 210ms/step - accuracy: 0.6926 - loss: 0.6012 - val_accuracy: 0.6316 - val_loss: 0.6333\n",
            "Epoch 55/300\n",
            "\u001b[1m6/6\u001b[0m \u001b[32m━━━━━━━━━━━━━━━━━━━━\u001b[0m\u001b[37m\u001b[0m \u001b[1m1s\u001b[0m 202ms/step - accuracy: 0.6943 - loss: 0.6199 - val_accuracy: 0.6316 - val_loss: 0.6322\n",
            "Epoch 56/300\n",
            "\u001b[1m6/6\u001b[0m \u001b[32m━━━━━━━━━━━━━━━━━━━━\u001b[0m\u001b[37m\u001b[0m \u001b[1m1s\u001b[0m 223ms/step - accuracy: 0.7048 - loss: 0.5693 - val_accuracy: 0.6316 - val_loss: 0.6315\n",
            "Epoch 57/300\n",
            "\u001b[1m6/6\u001b[0m \u001b[32m━━━━━━━━━━━━━━━━━━━━\u001b[0m\u001b[37m\u001b[0m \u001b[1m1s\u001b[0m 222ms/step - accuracy: 0.6720 - loss: 0.5769 - val_accuracy: 0.6316 - val_loss: 0.6295\n",
            "Epoch 58/300\n",
            "\u001b[1m6/6\u001b[0m \u001b[32m━━━━━━━━━━━━━━━━━━━━\u001b[0m\u001b[37m\u001b[0m \u001b[1m1s\u001b[0m 202ms/step - accuracy: 0.6896 - loss: 0.5842 - val_accuracy: 0.6316 - val_loss: 0.6289\n",
            "Epoch 59/300\n",
            "\u001b[1m6/6\u001b[0m \u001b[32m━━━━━━━━━━━━━━━━━━━━\u001b[0m\u001b[37m\u001b[0m \u001b[1m1s\u001b[0m 203ms/step - accuracy: 0.6953 - loss: 0.6068 - val_accuracy: 0.6316 - val_loss: 0.6273\n",
            "Epoch 60/300\n",
            "\u001b[1m6/6\u001b[0m \u001b[32m━━━━━━━━━━━━━━━━━━━━\u001b[0m\u001b[37m\u001b[0m \u001b[1m1s\u001b[0m 201ms/step - accuracy: 0.7522 - loss: 0.5733 - val_accuracy: 0.6316 - val_loss: 0.6264\n",
            "Epoch 61/300\n",
            "\u001b[1m6/6\u001b[0m \u001b[32m━━━━━━━━━━━━━━━━━━━━\u001b[0m\u001b[37m\u001b[0m \u001b[1m1s\u001b[0m 222ms/step - accuracy: 0.7305 - loss: 0.5606 - val_accuracy: 0.6579 - val_loss: 0.6252\n",
            "Epoch 62/300\n",
            "\u001b[1m6/6\u001b[0m \u001b[32m━━━━━━━━━━━━━━━━━━━━\u001b[0m\u001b[37m\u001b[0m \u001b[1m1s\u001b[0m 202ms/step - accuracy: 0.7250 - loss: 0.5696 - val_accuracy: 0.6579 - val_loss: 0.6242\n",
            "Epoch 63/300\n",
            "\u001b[1m6/6\u001b[0m \u001b[32m━━━━━━━━━━━━━━━━━━━━\u001b[0m\u001b[37m\u001b[0m \u001b[1m1s\u001b[0m 208ms/step - accuracy: 0.6732 - loss: 0.6087 - val_accuracy: 0.6316 - val_loss: 0.6240\n",
            "Epoch 64/300\n",
            "\u001b[1m6/6\u001b[0m \u001b[32m━━━━━━━━━━━━━━━━━━━━\u001b[0m\u001b[37m\u001b[0m \u001b[1m1s\u001b[0m 223ms/step - accuracy: 0.7591 - loss: 0.5529 - val_accuracy: 0.6316 - val_loss: 0.6232\n",
            "Epoch 65/300\n",
            "\u001b[1m6/6\u001b[0m \u001b[32m━━━━━━━━━━━━━━━━━━━━\u001b[0m\u001b[37m\u001b[0m \u001b[1m1s\u001b[0m 225ms/step - accuracy: 0.6929 - loss: 0.5909 - val_accuracy: 0.6316 - val_loss: 0.6219\n",
            "Epoch 66/300\n",
            "\u001b[1m6/6\u001b[0m \u001b[32m━━━━━━━━━━━━━━━━━━━━\u001b[0m\u001b[37m\u001b[0m \u001b[1m2s\u001b[0m 202ms/step - accuracy: 0.7341 - loss: 0.5566 - val_accuracy: 0.6579 - val_loss: 0.6206\n",
            "Epoch 67/300\n",
            "\u001b[1m6/6\u001b[0m \u001b[32m━━━━━━━━━━━━━━━━━━━━\u001b[0m\u001b[37m\u001b[0m \u001b[1m1s\u001b[0m 201ms/step - accuracy: 0.7000 - loss: 0.5793 - val_accuracy: 0.6579 - val_loss: 0.6194\n",
            "Epoch 68/300\n",
            "\u001b[1m6/6\u001b[0m \u001b[32m━━━━━━━━━━━━━━━━━━━━\u001b[0m\u001b[37m\u001b[0m \u001b[1m1s\u001b[0m 221ms/step - accuracy: 0.6537 - loss: 0.5948 - val_accuracy: 0.6316 - val_loss: 0.6204\n",
            "Epoch 69/300\n",
            "\u001b[1m6/6\u001b[0m \u001b[32m━━━━━━━━━━━━━━━━━━━━\u001b[0m\u001b[37m\u001b[0m \u001b[1m3s\u001b[0m 217ms/step - accuracy: 0.7453 - loss: 0.5367 - val_accuracy: 0.6316 - val_loss: 0.6178\n",
            "Epoch 70/300\n",
            "\u001b[1m6/6\u001b[0m \u001b[32m━━━━━━━━━━━━━━━━━━━━\u001b[0m\u001b[37m\u001b[0m \u001b[1m1s\u001b[0m 200ms/step - accuracy: 0.7459 - loss: 0.5496 - val_accuracy: 0.6316 - val_loss: 0.6180\n",
            "Epoch 71/300\n",
            "\u001b[1m6/6\u001b[0m \u001b[32m━━━━━━━━━━━━━━━━━━━━\u001b[0m\u001b[37m\u001b[0m \u001b[1m1s\u001b[0m 220ms/step - accuracy: 0.6877 - loss: 0.5675 - val_accuracy: 0.6579 - val_loss: 0.6164\n",
            "Epoch 72/300\n",
            "\u001b[1m6/6\u001b[0m \u001b[32m━━━━━━━━━━━━━━━━━━━━\u001b[0m\u001b[37m\u001b[0m \u001b[1m1s\u001b[0m 230ms/step - accuracy: 0.7073 - loss: 0.5865 - val_accuracy: 0.6579 - val_loss: 0.6146\n",
            "Epoch 73/300\n",
            "\u001b[1m6/6\u001b[0m \u001b[32m━━━━━━━━━━━━━━━━━━━━\u001b[0m\u001b[37m\u001b[0m \u001b[1m1s\u001b[0m 210ms/step - accuracy: 0.7656 - loss: 0.5510 - val_accuracy: 0.6579 - val_loss: 0.6134\n",
            "Epoch 74/300\n",
            "\u001b[1m6/6\u001b[0m \u001b[32m━━━━━━━━━━━━━━━━━━━━\u001b[0m\u001b[37m\u001b[0m \u001b[1m1s\u001b[0m 227ms/step - accuracy: 0.7774 - loss: 0.5305 - val_accuracy: 0.7105 - val_loss: 0.6123\n",
            "Epoch 75/300\n",
            "\u001b[1m6/6\u001b[0m \u001b[32m━━━━━━━━━━━━━━━━━━━━\u001b[0m\u001b[37m\u001b[0m \u001b[1m1s\u001b[0m 202ms/step - accuracy: 0.7183 - loss: 0.5443 - val_accuracy: 0.6842 - val_loss: 0.6116\n",
            "Epoch 76/300\n",
            "\u001b[1m6/6\u001b[0m \u001b[32m━━━━━━━━━━━━━━━━━━━━\u001b[0m\u001b[37m\u001b[0m \u001b[1m1s\u001b[0m 204ms/step - accuracy: 0.7538 - loss: 0.5240 - val_accuracy: 0.6842 - val_loss: 0.6109\n",
            "Epoch 77/300\n",
            "\u001b[1m6/6\u001b[0m \u001b[32m━━━━━━━━━━━━━━━━━━━━\u001b[0m\u001b[37m\u001b[0m \u001b[1m1s\u001b[0m 203ms/step - accuracy: 0.7234 - loss: 0.5612 - val_accuracy: 0.7105 - val_loss: 0.6110\n",
            "Epoch 78/300\n",
            "\u001b[1m6/6\u001b[0m \u001b[32m━━━━━━━━━━━━━━━━━━━━\u001b[0m\u001b[37m\u001b[0m \u001b[1m1s\u001b[0m 204ms/step - accuracy: 0.7513 - loss: 0.5231 - val_accuracy: 0.6579 - val_loss: 0.6108\n",
            "Epoch 79/300\n",
            "\u001b[1m6/6\u001b[0m \u001b[32m━━━━━━━━━━━━━━━━━━━━\u001b[0m\u001b[37m\u001b[0m \u001b[1m1s\u001b[0m 205ms/step - accuracy: 0.7748 - loss: 0.5465 - val_accuracy: 0.7105 - val_loss: 0.6094\n",
            "Epoch 80/300\n",
            "\u001b[1m6/6\u001b[0m \u001b[32m━━━━━━━━━━━━━━━━━━━━\u001b[0m\u001b[37m\u001b[0m \u001b[1m1s\u001b[0m 202ms/step - accuracy: 0.7314 - loss: 0.5449 - val_accuracy: 0.7105 - val_loss: 0.6083\n",
            "Epoch 81/300\n",
            "\u001b[1m6/6\u001b[0m \u001b[32m━━━━━━━━━━━━━━━━━━━━\u001b[0m\u001b[37m\u001b[0m \u001b[1m1s\u001b[0m 224ms/step - accuracy: 0.7037 - loss: 0.5620 - val_accuracy: 0.7105 - val_loss: 0.6072\n",
            "Epoch 82/300\n",
            "\u001b[1m6/6\u001b[0m \u001b[32m━━━━━━━━━━━━━━━━━━━━\u001b[0m\u001b[37m\u001b[0m \u001b[1m1s\u001b[0m 205ms/step - accuracy: 0.7426 - loss: 0.5502 - val_accuracy: 0.7105 - val_loss: 0.6056\n",
            "Epoch 83/300\n",
            "\u001b[1m6/6\u001b[0m \u001b[32m━━━━━━━━━━━━━━━━━━━━\u001b[0m\u001b[37m\u001b[0m \u001b[1m1s\u001b[0m 206ms/step - accuracy: 0.7862 - loss: 0.5530 - val_accuracy: 0.7105 - val_loss: 0.6046\n",
            "Epoch 84/300\n",
            "\u001b[1m6/6\u001b[0m \u001b[32m━━━━━━━━━━━━━━━━━━━━\u001b[0m\u001b[37m\u001b[0m \u001b[1m1s\u001b[0m 210ms/step - accuracy: 0.7798 - loss: 0.5072 - val_accuracy: 0.7105 - val_loss: 0.6038\n",
            "Epoch 85/300\n",
            "\u001b[1m6/6\u001b[0m \u001b[32m━━━━━━━━━━━━━━━━━━━━\u001b[0m\u001b[37m\u001b[0m \u001b[1m1s\u001b[0m 226ms/step - accuracy: 0.7200 - loss: 0.5221 - val_accuracy: 0.7105 - val_loss: 0.6025\n",
            "Epoch 86/300\n",
            "\u001b[1m6/6\u001b[0m \u001b[32m━━━━━━━━━━━━━━━━━━━━\u001b[0m\u001b[37m\u001b[0m \u001b[1m1s\u001b[0m 203ms/step - accuracy: 0.7587 - loss: 0.5217 - val_accuracy: 0.7105 - val_loss: 0.6028\n",
            "Epoch 87/300\n",
            "\u001b[1m6/6\u001b[0m \u001b[32m━━━━━━━━━━━━━━━━━━━━\u001b[0m\u001b[37m\u001b[0m \u001b[1m1s\u001b[0m 204ms/step - accuracy: 0.7836 - loss: 0.4879 - val_accuracy: 0.7105 - val_loss: 0.6016\n",
            "Epoch 88/300\n",
            "\u001b[1m6/6\u001b[0m \u001b[32m━━━━━━━━━━━━━━━━━━━━\u001b[0m\u001b[37m\u001b[0m \u001b[1m1s\u001b[0m 203ms/step - accuracy: 0.7342 - loss: 0.5326 - val_accuracy: 0.7105 - val_loss: 0.6006\n",
            "Epoch 89/300\n",
            "\u001b[1m6/6\u001b[0m \u001b[32m━━━━━━━━━━━━━━━━━━━━\u001b[0m\u001b[37m\u001b[0m \u001b[1m1s\u001b[0m 204ms/step - accuracy: 0.7727 - loss: 0.5357 - val_accuracy: 0.7105 - val_loss: 0.5998\n",
            "Epoch 90/300\n",
            "\u001b[1m6/6\u001b[0m \u001b[32m━━━━━━━━━━━━━━━━━━━━\u001b[0m\u001b[37m\u001b[0m \u001b[1m1s\u001b[0m 204ms/step - accuracy: 0.7868 - loss: 0.5307 - val_accuracy: 0.7105 - val_loss: 0.5979\n",
            "Epoch 91/300\n",
            "\u001b[1m6/6\u001b[0m \u001b[32m━━━━━━━━━━━━━━━━━━━━\u001b[0m\u001b[37m\u001b[0m \u001b[1m1s\u001b[0m 205ms/step - accuracy: 0.7538 - loss: 0.5088 - val_accuracy: 0.7105 - val_loss: 0.5968\n",
            "Epoch 92/300\n",
            "\u001b[1m6/6\u001b[0m \u001b[32m━━━━━━━━━━━━━━━━━━━━\u001b[0m\u001b[37m\u001b[0m \u001b[1m1s\u001b[0m 204ms/step - accuracy: 0.7842 - loss: 0.5375 - val_accuracy: 0.7105 - val_loss: 0.5962\n",
            "Epoch 93/300\n",
            "\u001b[1m6/6\u001b[0m \u001b[32m━━━━━━━━━━━━━━━━━━━━\u001b[0m\u001b[37m\u001b[0m \u001b[1m1s\u001b[0m 224ms/step - accuracy: 0.7372 - loss: 0.5503 - val_accuracy: 0.7105 - val_loss: 0.5955\n",
            "Epoch 94/300\n",
            "\u001b[1m6/6\u001b[0m \u001b[32m━━━━━━━━━━━━━━━━━━━━\u001b[0m\u001b[37m\u001b[0m \u001b[1m1s\u001b[0m 212ms/step - accuracy: 0.7444 - loss: 0.5176 - val_accuracy: 0.7105 - val_loss: 0.5945\n",
            "Epoch 95/300\n",
            "\u001b[1m6/6\u001b[0m \u001b[32m━━━━━━━━━━━━━━━━━━━━\u001b[0m\u001b[37m\u001b[0m \u001b[1m1s\u001b[0m 227ms/step - accuracy: 0.7586 - loss: 0.5413 - val_accuracy: 0.7105 - val_loss: 0.5939\n",
            "Epoch 96/300\n",
            "\u001b[1m6/6\u001b[0m \u001b[32m━━━━━━━━━━━━━━━━━━━━\u001b[0m\u001b[37m\u001b[0m \u001b[1m1s\u001b[0m 227ms/step - accuracy: 0.7694 - loss: 0.5343 - val_accuracy: 0.7105 - val_loss: 0.5930\n",
            "Epoch 97/300\n",
            "\u001b[1m6/6\u001b[0m \u001b[32m━━━━━━━━━━━━━━━━━━━━\u001b[0m\u001b[37m\u001b[0m \u001b[1m2s\u001b[0m 203ms/step - accuracy: 0.8115 - loss: 0.4868 - val_accuracy: 0.7105 - val_loss: 0.5923\n",
            "Epoch 98/300\n",
            "\u001b[1m6/6\u001b[0m \u001b[32m━━━━━━━━━━━━━━━━━━━━\u001b[0m\u001b[37m\u001b[0m \u001b[1m1s\u001b[0m 222ms/step - accuracy: 0.7712 - loss: 0.5199 - val_accuracy: 0.6842 - val_loss: 0.5919\n",
            "Epoch 99/300\n",
            "\u001b[1m6/6\u001b[0m \u001b[32m━━━━━━━━━━━━━━━━━━━━\u001b[0m\u001b[37m\u001b[0m \u001b[1m3s\u001b[0m 223ms/step - accuracy: 0.7638 - loss: 0.4961 - val_accuracy: 0.6842 - val_loss: 0.5913\n",
            "Epoch 100/300\n",
            "\u001b[1m6/6\u001b[0m \u001b[32m━━━━━━━━━━━━━━━━━━━━\u001b[0m\u001b[37m\u001b[0m \u001b[1m2s\u001b[0m 203ms/step - accuracy: 0.8006 - loss: 0.5077 - val_accuracy: 0.6842 - val_loss: 0.5903\n",
            "Epoch 101/300\n",
            "\u001b[1m6/6\u001b[0m \u001b[32m━━━━━━━━━━━━━━━━━━━━\u001b[0m\u001b[37m\u001b[0m \u001b[1m1s\u001b[0m 204ms/step - accuracy: 0.7665 - loss: 0.5178 - val_accuracy: 0.6842 - val_loss: 0.5890\n",
            "Epoch 102/300\n",
            "\u001b[1m6/6\u001b[0m \u001b[32m━━━━━━━━━━━━━━━━━━━━\u001b[0m\u001b[37m\u001b[0m \u001b[1m1s\u001b[0m 227ms/step - accuracy: 0.7714 - loss: 0.5095 - val_accuracy: 0.7105 - val_loss: 0.5875\n",
            "Epoch 103/300\n",
            "\u001b[1m6/6\u001b[0m \u001b[32m━━━━━━━━━━━━━━━━━━━━\u001b[0m\u001b[37m\u001b[0m \u001b[1m1s\u001b[0m 227ms/step - accuracy: 0.8325 - loss: 0.4883 - val_accuracy: 0.7105 - val_loss: 0.5864\n",
            "Epoch 104/300\n",
            "\u001b[1m6/6\u001b[0m \u001b[32m━━━━━━━━━━━━━━━━━━━━\u001b[0m\u001b[37m\u001b[0m \u001b[1m2s\u001b[0m 219ms/step - accuracy: 0.7493 - loss: 0.5214 - val_accuracy: 0.7105 - val_loss: 0.5861\n",
            "Epoch 105/300\n",
            "\u001b[1m6/6\u001b[0m \u001b[32m━━━━━━━━━━━━━━━━━━━━\u001b[0m\u001b[37m\u001b[0m \u001b[1m2s\u001b[0m 203ms/step - accuracy: 0.7819 - loss: 0.5046 - val_accuracy: 0.7105 - val_loss: 0.5857\n",
            "Epoch 106/300\n",
            "\u001b[1m6/6\u001b[0m \u001b[32m━━━━━━━━━━━━━━━━━━━━\u001b[0m\u001b[37m\u001b[0m \u001b[1m1s\u001b[0m 221ms/step - accuracy: 0.7770 - loss: 0.5030 - val_accuracy: 0.7105 - val_loss: 0.5852\n",
            "Epoch 107/300\n",
            "\u001b[1m6/6\u001b[0m \u001b[32m━━━━━━━━━━━━━━━━━━━━\u001b[0m\u001b[37m\u001b[0m \u001b[1m1s\u001b[0m 222ms/step - accuracy: 0.8119 - loss: 0.4645 - val_accuracy: 0.7105 - val_loss: 0.5844\n",
            "Epoch 108/300\n",
            "\u001b[1m6/6\u001b[0m \u001b[32m━━━━━━━━━━━━━━━━━━━━\u001b[0m\u001b[37m\u001b[0m \u001b[1m3s\u001b[0m 221ms/step - accuracy: 0.8250 - loss: 0.4620 - val_accuracy: 0.7105 - val_loss: 0.5835\n",
            "Epoch 109/300\n",
            "\u001b[1m6/6\u001b[0m \u001b[32m━━━━━━━━━━━━━━━━━━━━\u001b[0m\u001b[37m\u001b[0m \u001b[1m1s\u001b[0m 226ms/step - accuracy: 0.8077 - loss: 0.5051 - val_accuracy: 0.7105 - val_loss: 0.5831\n",
            "Epoch 110/300\n",
            "\u001b[1m6/6\u001b[0m \u001b[32m━━━━━━━━━━━━━━━━━━━━\u001b[0m\u001b[37m\u001b[0m \u001b[1m1s\u001b[0m 209ms/step - accuracy: 0.8139 - loss: 0.4772 - val_accuracy: 0.7105 - val_loss: 0.5823\n",
            "Epoch 111/300\n",
            "\u001b[1m6/6\u001b[0m \u001b[32m━━━━━━━━━━━━━━━━━━━━\u001b[0m\u001b[37m\u001b[0m \u001b[1m1s\u001b[0m 208ms/step - accuracy: 0.7720 - loss: 0.5071 - val_accuracy: 0.7105 - val_loss: 0.5812\n",
            "Epoch 112/300\n",
            "\u001b[1m6/6\u001b[0m \u001b[32m━━━━━━━━━━━━━━━━━━━━\u001b[0m\u001b[37m\u001b[0m \u001b[1m1s\u001b[0m 204ms/step - accuracy: 0.7740 - loss: 0.5066 - val_accuracy: 0.7105 - val_loss: 0.5805\n",
            "Epoch 113/300\n",
            "\u001b[1m6/6\u001b[0m \u001b[32m━━━━━━━━━━━━━━━━━━━━\u001b[0m\u001b[37m\u001b[0m \u001b[1m1s\u001b[0m 220ms/step - accuracy: 0.7756 - loss: 0.4996 - val_accuracy: 0.7105 - val_loss: 0.5800\n",
            "Epoch 114/300\n",
            "\u001b[1m6/6\u001b[0m \u001b[32m━━━━━━━━━━━━━━━━━━━━\u001b[0m\u001b[37m\u001b[0m \u001b[1m1s\u001b[0m 203ms/step - accuracy: 0.7965 - loss: 0.4806 - val_accuracy: 0.7105 - val_loss: 0.5791\n",
            "Epoch 115/300\n",
            "\u001b[1m6/6\u001b[0m \u001b[32m━━━━━━━━━━━━━━━━━━━━\u001b[0m\u001b[37m\u001b[0m \u001b[1m1s\u001b[0m 203ms/step - accuracy: 0.8428 - loss: 0.4534 - val_accuracy: 0.7105 - val_loss: 0.5786\n",
            "Epoch 116/300\n",
            "\u001b[1m6/6\u001b[0m \u001b[32m━━━━━━━━━━━━━━━━━━━━\u001b[0m\u001b[37m\u001b[0m \u001b[1m1s\u001b[0m 224ms/step - accuracy: 0.8085 - loss: 0.4833 - val_accuracy: 0.7105 - val_loss: 0.5785\n",
            "Epoch 117/300\n",
            "\u001b[1m6/6\u001b[0m \u001b[32m━━━━━━━━━━━━━━━━━━━━\u001b[0m\u001b[37m\u001b[0m \u001b[1m1s\u001b[0m 204ms/step - accuracy: 0.7893 - loss: 0.5030 - val_accuracy: 0.7105 - val_loss: 0.5775\n",
            "Epoch 118/300\n",
            "\u001b[1m6/6\u001b[0m \u001b[32m━━━━━━━━━━━━━━━━━━━━\u001b[0m\u001b[37m\u001b[0m \u001b[1m1s\u001b[0m 223ms/step - accuracy: 0.8555 - loss: 0.4869 - val_accuracy: 0.7105 - val_loss: 0.5772\n",
            "Epoch 119/300\n",
            "\u001b[1m6/6\u001b[0m \u001b[32m━━━━━━━━━━━━━━━━━━━━\u001b[0m\u001b[37m\u001b[0m \u001b[1m2s\u001b[0m 209ms/step - accuracy: 0.8221 - loss: 0.4911 - val_accuracy: 0.7105 - val_loss: 0.5765\n",
            "Epoch 120/300\n",
            "\u001b[1m6/6\u001b[0m \u001b[32m━━━━━━━━━━━━━━━━━━━━\u001b[0m\u001b[37m\u001b[0m \u001b[1m1s\u001b[0m 228ms/step - accuracy: 0.7583 - loss: 0.4946 - val_accuracy: 0.7105 - val_loss: 0.5752\n",
            "Epoch 121/300\n",
            "\u001b[1m6/6\u001b[0m \u001b[32m━━━━━━━━━━━━━━━━━━━━\u001b[0m\u001b[37m\u001b[0m \u001b[1m1s\u001b[0m 213ms/step - accuracy: 0.8023 - loss: 0.4713 - val_accuracy: 0.7105 - val_loss: 0.5757\n",
            "Epoch 122/300\n",
            "\u001b[1m6/6\u001b[0m \u001b[32m━━━━━━━━━━━━━━━━━━━━\u001b[0m\u001b[37m\u001b[0m \u001b[1m1s\u001b[0m 207ms/step - accuracy: 0.8285 - loss: 0.4840 - val_accuracy: 0.7105 - val_loss: 0.5740\n",
            "Epoch 123/300\n",
            "\u001b[1m6/6\u001b[0m \u001b[32m━━━━━━━━━━━━━━━━━━━━\u001b[0m\u001b[37m\u001b[0m \u001b[1m1s\u001b[0m 202ms/step - accuracy: 0.7950 - loss: 0.4801 - val_accuracy: 0.7105 - val_loss: 0.5737\n",
            "Epoch 124/300\n",
            "\u001b[1m6/6\u001b[0m \u001b[32m━━━━━━━━━━━━━━━━━━━━\u001b[0m\u001b[37m\u001b[0m \u001b[1m1s\u001b[0m 224ms/step - accuracy: 0.8132 - loss: 0.4871 - val_accuracy: 0.7105 - val_loss: 0.5731\n",
            "Epoch 125/300\n",
            "\u001b[1m6/6\u001b[0m \u001b[32m━━━━━━━━━━━━━━━━━━━━\u001b[0m\u001b[37m\u001b[0m \u001b[1m2s\u001b[0m 207ms/step - accuracy: 0.7618 - loss: 0.5010 - val_accuracy: 0.7105 - val_loss: 0.5727\n",
            "Epoch 126/300\n",
            "\u001b[1m6/6\u001b[0m \u001b[32m━━━━━━━━━━━━━━━━━━━━\u001b[0m\u001b[37m\u001b[0m \u001b[1m1s\u001b[0m 204ms/step - accuracy: 0.7606 - loss: 0.4946 - val_accuracy: 0.7105 - val_loss: 0.5718\n",
            "Epoch 127/300\n",
            "\u001b[1m6/6\u001b[0m \u001b[32m━━━━━━━━━━━━━━━━━━━━\u001b[0m\u001b[37m\u001b[0m \u001b[1m1s\u001b[0m 222ms/step - accuracy: 0.8106 - loss: 0.4518 - val_accuracy: 0.7105 - val_loss: 0.5710\n",
            "Epoch 128/300\n",
            "\u001b[1m6/6\u001b[0m \u001b[32m━━━━━━━━━━━━━━━━━━━━\u001b[0m\u001b[37m\u001b[0m \u001b[1m1s\u001b[0m 222ms/step - accuracy: 0.7669 - loss: 0.4936 - val_accuracy: 0.7105 - val_loss: 0.5711\n",
            "Epoch 129/300\n",
            "\u001b[1m6/6\u001b[0m \u001b[32m━━━━━━━━━━━━━━━━━━━━\u001b[0m\u001b[37m\u001b[0m \u001b[1m3s\u001b[0m 226ms/step - accuracy: 0.8209 - loss: 0.4981 - val_accuracy: 0.7105 - val_loss: 0.5709\n",
            "Epoch 130/300\n",
            "\u001b[1m6/6\u001b[0m \u001b[32m━━━━━━━━━━━━━━━━━━━━\u001b[0m\u001b[37m\u001b[0m \u001b[1m2s\u001b[0m 204ms/step - accuracy: 0.8365 - loss: 0.4453 - val_accuracy: 0.7105 - val_loss: 0.5697\n",
            "Epoch 131/300\n",
            "\u001b[1m6/6\u001b[0m \u001b[32m━━━━━━━━━━━━━━━━━━━━\u001b[0m\u001b[37m\u001b[0m \u001b[1m1s\u001b[0m 223ms/step - accuracy: 0.7894 - loss: 0.4851 - val_accuracy: 0.7368 - val_loss: 0.5686\n",
            "Epoch 132/300\n",
            "\u001b[1m6/6\u001b[0m \u001b[32m━━━━━━━━━━━━━━━━━━━━\u001b[0m\u001b[37m\u001b[0m \u001b[1m2s\u001b[0m 201ms/step - accuracy: 0.8389 - loss: 0.4468 - val_accuracy: 0.7368 - val_loss: 0.5677\n",
            "Epoch 133/300\n",
            "\u001b[1m6/6\u001b[0m \u001b[32m━━━━━━━━━━━━━━━━━━━━\u001b[0m\u001b[37m\u001b[0m \u001b[1m1s\u001b[0m 204ms/step - accuracy: 0.7754 - loss: 0.4610 - val_accuracy: 0.7368 - val_loss: 0.5674\n",
            "Epoch 134/300\n",
            "\u001b[1m6/6\u001b[0m \u001b[32m━━━━━━━━━━━━━━━━━━━━\u001b[0m\u001b[37m\u001b[0m \u001b[1m1s\u001b[0m 204ms/step - accuracy: 0.7995 - loss: 0.4664 - val_accuracy: 0.7368 - val_loss: 0.5663\n",
            "Epoch 135/300\n",
            "\u001b[1m6/6\u001b[0m \u001b[32m━━━━━━━━━━━━━━━━━━━━\u001b[0m\u001b[37m\u001b[0m \u001b[1m1s\u001b[0m 223ms/step - accuracy: 0.8499 - loss: 0.4428 - val_accuracy: 0.7368 - val_loss: 0.5654\n",
            "Epoch 136/300\n",
            "\u001b[1m6/6\u001b[0m \u001b[32m━━━━━━━━━━━━━━━━━━━━\u001b[0m\u001b[37m\u001b[0m \u001b[1m1s\u001b[0m 226ms/step - accuracy: 0.7852 - loss: 0.4399 - val_accuracy: 0.7368 - val_loss: 0.5640\n",
            "Epoch 137/300\n",
            "\u001b[1m6/6\u001b[0m \u001b[32m━━━━━━━━━━━━━━━━━━━━\u001b[0m\u001b[37m\u001b[0m \u001b[1m2s\u001b[0m 204ms/step - accuracy: 0.8721 - loss: 0.4294 - val_accuracy: 0.7368 - val_loss: 0.5632\n",
            "Epoch 138/300\n",
            "\u001b[1m6/6\u001b[0m \u001b[32m━━━━━━━━━━━━━━━━━━━━\u001b[0m\u001b[37m\u001b[0m \u001b[1m1s\u001b[0m 224ms/step - accuracy: 0.7918 - loss: 0.4791 - val_accuracy: 0.7368 - val_loss: 0.5629\n",
            "Epoch 139/300\n",
            "\u001b[1m6/6\u001b[0m \u001b[32m━━━━━━━━━━━━━━━━━━━━\u001b[0m\u001b[37m\u001b[0m \u001b[1m1s\u001b[0m 222ms/step - accuracy: 0.8546 - loss: 0.4456 - val_accuracy: 0.7368 - val_loss: 0.5631\n",
            "Epoch 140/300\n",
            "\u001b[1m6/6\u001b[0m \u001b[32m━━━━━━━━━━━━━━━━━━━━\u001b[0m\u001b[37m\u001b[0m \u001b[1m3s\u001b[0m 219ms/step - accuracy: 0.8166 - loss: 0.4496 - val_accuracy: 0.7368 - val_loss: 0.5620\n",
            "Epoch 141/300\n",
            "\u001b[1m6/6\u001b[0m \u001b[32m━━━━━━━━━━━━━━━━━━━━\u001b[0m\u001b[37m\u001b[0m \u001b[1m2s\u001b[0m 204ms/step - accuracy: 0.8205 - loss: 0.4476 - val_accuracy: 0.7368 - val_loss: 0.5611\n",
            "Epoch 142/300\n",
            "\u001b[1m6/6\u001b[0m \u001b[32m━━━━━━━━━━━━━━━━━━━━\u001b[0m\u001b[37m\u001b[0m \u001b[1m1s\u001b[0m 203ms/step - accuracy: 0.8645 - loss: 0.4074 - val_accuracy: 0.7368 - val_loss: 0.5601\n",
            "Epoch 143/300\n",
            "\u001b[1m6/6\u001b[0m \u001b[32m━━━━━━━━━━━━━━━━━━━━\u001b[0m\u001b[37m\u001b[0m \u001b[1m1s\u001b[0m 226ms/step - accuracy: 0.8448 - loss: 0.4332 - val_accuracy: 0.7368 - val_loss: 0.5594\n",
            "Epoch 144/300\n",
            "\u001b[1m6/6\u001b[0m \u001b[32m━━━━━━━━━━━━━━━━━━━━\u001b[0m\u001b[37m\u001b[0m \u001b[1m1s\u001b[0m 226ms/step - accuracy: 0.7938 - loss: 0.4567 - val_accuracy: 0.7368 - val_loss: 0.5586\n",
            "Epoch 145/300\n",
            "\u001b[1m6/6\u001b[0m \u001b[32m━━━━━━━━━━━━━━━━━━━━\u001b[0m\u001b[37m\u001b[0m \u001b[1m1s\u001b[0m 229ms/step - accuracy: 0.8664 - loss: 0.4257 - val_accuracy: 0.7368 - val_loss: 0.5582\n",
            "Epoch 146/300\n",
            "\u001b[1m6/6\u001b[0m \u001b[32m━━━━━━━━━━━━━━━━━━━━\u001b[0m\u001b[37m\u001b[0m \u001b[1m2s\u001b[0m 204ms/step - accuracy: 0.8099 - loss: 0.4294 - val_accuracy: 0.7368 - val_loss: 0.5580\n",
            "Epoch 147/300\n",
            "\u001b[1m6/6\u001b[0m \u001b[32m━━━━━━━━━━━━━━━━━━━━\u001b[0m\u001b[37m\u001b[0m \u001b[1m1s\u001b[0m 203ms/step - accuracy: 0.9075 - loss: 0.4222 - val_accuracy: 0.7368 - val_loss: 0.5576\n",
            "Epoch 148/300\n",
            "\u001b[1m6/6\u001b[0m \u001b[32m━━━━━━━━━━━━━━━━━━━━\u001b[0m\u001b[37m\u001b[0m \u001b[1m1s\u001b[0m 226ms/step - accuracy: 0.8486 - loss: 0.4475 - val_accuracy: 0.7368 - val_loss: 0.5566\n",
            "Epoch 149/300\n",
            "\u001b[1m6/6\u001b[0m \u001b[32m━━━━━━━━━━━━━━━━━━━━\u001b[0m\u001b[37m\u001b[0m \u001b[1m2s\u001b[0m 205ms/step - accuracy: 0.7953 - loss: 0.4498 - val_accuracy: 0.7368 - val_loss: 0.5562\n",
            "Epoch 150/300\n",
            "\u001b[1m6/6\u001b[0m \u001b[32m━━━━━━━━━━━━━━━━━━━━\u001b[0m\u001b[37m\u001b[0m \u001b[1m1s\u001b[0m 203ms/step - accuracy: 0.8276 - loss: 0.4453 - val_accuracy: 0.7368 - val_loss: 0.5559\n",
            "Epoch 151/300\n",
            "\u001b[1m6/6\u001b[0m \u001b[32m━━━━━━━━━━━━━━━━━━━━\u001b[0m\u001b[37m\u001b[0m \u001b[1m1s\u001b[0m 224ms/step - accuracy: 0.8236 - loss: 0.4609 - val_accuracy: 0.7368 - val_loss: 0.5552\n",
            "Epoch 152/300\n",
            "\u001b[1m6/6\u001b[0m \u001b[32m━━━━━━━━━━━━━━━━━━━━\u001b[0m\u001b[37m\u001b[0m \u001b[1m3s\u001b[0m 226ms/step - accuracy: 0.8206 - loss: 0.4285 - val_accuracy: 0.7368 - val_loss: 0.5546\n",
            "Epoch 153/300\n",
            "\u001b[1m6/6\u001b[0m \u001b[32m━━━━━━━━━━━━━━━━━━━━\u001b[0m\u001b[37m\u001b[0m \u001b[1m1s\u001b[0m 206ms/step - accuracy: 0.8490 - loss: 0.4594 - val_accuracy: 0.7368 - val_loss: 0.5541\n",
            "Epoch 154/300\n",
            "\u001b[1m6/6\u001b[0m \u001b[32m━━━━━━━━━━━━━━━━━━━━\u001b[0m\u001b[37m\u001b[0m \u001b[1m1s\u001b[0m 203ms/step - accuracy: 0.8395 - loss: 0.4407 - val_accuracy: 0.7368 - val_loss: 0.5541\n",
            "Epoch 155/300\n",
            "\u001b[1m6/6\u001b[0m \u001b[32m━━━━━━━━━━━━━━━━━━━━\u001b[0m\u001b[37m\u001b[0m \u001b[1m1s\u001b[0m 226ms/step - accuracy: 0.8266 - loss: 0.4918 - val_accuracy: 0.7368 - val_loss: 0.5535\n",
            "Epoch 156/300\n",
            "\u001b[1m6/6\u001b[0m \u001b[32m━━━━━━━━━━━━━━━━━━━━\u001b[0m\u001b[37m\u001b[0m \u001b[1m1s\u001b[0m 224ms/step - accuracy: 0.8350 - loss: 0.4451 - val_accuracy: 0.7368 - val_loss: 0.5525\n",
            "Epoch 157/300\n",
            "\u001b[1m6/6\u001b[0m \u001b[32m━━━━━━━━━━━━━━━━━━━━\u001b[0m\u001b[37m\u001b[0m \u001b[1m1s\u001b[0m 207ms/step - accuracy: 0.8603 - loss: 0.4432 - val_accuracy: 0.7368 - val_loss: 0.5525\n",
            "Epoch 158/300\n",
            "\u001b[1m6/6\u001b[0m \u001b[32m━━━━━━━━━━━━━━━━━━━━\u001b[0m\u001b[37m\u001b[0m \u001b[1m1s\u001b[0m 205ms/step - accuracy: 0.8481 - loss: 0.4420 - val_accuracy: 0.7368 - val_loss: 0.5523\n",
            "Epoch 159/300\n",
            "\u001b[1m6/6\u001b[0m \u001b[32m━━━━━━━━━━━━━━━━━━━━\u001b[0m\u001b[37m\u001b[0m \u001b[1m1s\u001b[0m 224ms/step - accuracy: 0.7984 - loss: 0.4549 - val_accuracy: 0.7368 - val_loss: 0.5517\n",
            "Epoch 160/300\n",
            "\u001b[1m6/6\u001b[0m \u001b[32m━━━━━━━━━━━━━━━━━━━━\u001b[0m\u001b[37m\u001b[0m \u001b[1m1s\u001b[0m 222ms/step - accuracy: 0.8510 - loss: 0.4265 - val_accuracy: 0.7368 - val_loss: 0.5515\n",
            "Epoch 161/300\n",
            "\u001b[1m6/6\u001b[0m \u001b[32m━━━━━━━━━━━━━━━━━━━━\u001b[0m\u001b[37m\u001b[0m \u001b[1m2s\u001b[0m 208ms/step - accuracy: 0.8672 - loss: 0.4369 - val_accuracy: 0.7368 - val_loss: 0.5511\n",
            "Epoch 162/300\n",
            "\u001b[1m6/6\u001b[0m \u001b[32m━━━━━━━━━━━━━━━━━━━━\u001b[0m\u001b[37m\u001b[0m \u001b[1m1s\u001b[0m 232ms/step - accuracy: 0.8473 - loss: 0.4366 - val_accuracy: 0.7368 - val_loss: 0.5499\n",
            "Epoch 163/300\n",
            "\u001b[1m6/6\u001b[0m \u001b[32m━━━━━━━━━━━━━━━━━━━━\u001b[0m\u001b[37m\u001b[0m \u001b[1m1s\u001b[0m 221ms/step - accuracy: 0.8555 - loss: 0.4509 - val_accuracy: 0.7368 - val_loss: 0.5491\n",
            "Epoch 164/300\n",
            "\u001b[1m6/6\u001b[0m \u001b[32m━━━━━━━━━━━━━━━━━━━━\u001b[0m\u001b[37m\u001b[0m \u001b[1m2s\u001b[0m 204ms/step - accuracy: 0.8190 - loss: 0.4472 - val_accuracy: 0.7368 - val_loss: 0.5490\n",
            "Epoch 165/300\n",
            "\u001b[1m6/6\u001b[0m \u001b[32m━━━━━━━━━━━━━━━━━━━━\u001b[0m\u001b[37m\u001b[0m \u001b[1m1s\u001b[0m 204ms/step - accuracy: 0.8711 - loss: 0.4296 - val_accuracy: 0.7368 - val_loss: 0.5478\n",
            "Epoch 166/300\n",
            "\u001b[1m6/6\u001b[0m \u001b[32m━━━━━━━━━━━━━━━━━━━━\u001b[0m\u001b[37m\u001b[0m \u001b[1m1s\u001b[0m 202ms/step - accuracy: 0.8469 - loss: 0.4235 - val_accuracy: 0.7368 - val_loss: 0.5479\n",
            "Epoch 167/300\n",
            "\u001b[1m6/6\u001b[0m \u001b[32m━━━━━━━━━━━━━━━━━━━━\u001b[0m\u001b[37m\u001b[0m \u001b[1m1s\u001b[0m 222ms/step - accuracy: 0.8151 - loss: 0.4370 - val_accuracy: 0.7368 - val_loss: 0.5481\n",
            "Epoch 168/300\n",
            "\u001b[1m6/6\u001b[0m \u001b[32m━━━━━━━━━━━━━━━━━━━━\u001b[0m\u001b[37m\u001b[0m \u001b[1m1s\u001b[0m 203ms/step - accuracy: 0.8461 - loss: 0.4216 - val_accuracy: 0.7368 - val_loss: 0.5472\n",
            "Epoch 169/300\n",
            "\u001b[1m6/6\u001b[0m \u001b[32m━━━━━━━━━━━━━━━━━━━━\u001b[0m\u001b[37m\u001b[0m \u001b[1m1s\u001b[0m 222ms/step - accuracy: 0.8245 - loss: 0.4149 - val_accuracy: 0.7368 - val_loss: 0.5471\n",
            "Epoch 170/300\n",
            "\u001b[1m6/6\u001b[0m \u001b[32m━━━━━━━━━━━━━━━━━━━━\u001b[0m\u001b[37m\u001b[0m \u001b[1m2s\u001b[0m 208ms/step - accuracy: 0.8404 - loss: 0.4196 - val_accuracy: 0.7368 - val_loss: 0.5461\n",
            "Epoch 171/300\n",
            "\u001b[1m6/6\u001b[0m \u001b[32m━━━━━━━━━━━━━━━━━━━━\u001b[0m\u001b[37m\u001b[0m \u001b[1m1s\u001b[0m 205ms/step - accuracy: 0.8462 - loss: 0.4246 - val_accuracy: 0.7368 - val_loss: 0.5454\n",
            "Epoch 172/300\n",
            "\u001b[1m6/6\u001b[0m \u001b[32m━━━━━━━━━━━━━━━━━━━━\u001b[0m\u001b[37m\u001b[0m \u001b[1m1s\u001b[0m 202ms/step - accuracy: 0.8940 - loss: 0.4150 - val_accuracy: 0.7368 - val_loss: 0.5444\n",
            "Epoch 173/300\n",
            "\u001b[1m6/6\u001b[0m \u001b[32m━━━━━━━━━━━━━━━━━━━━\u001b[0m\u001b[37m\u001b[0m \u001b[1m1s\u001b[0m 204ms/step - accuracy: 0.8835 - loss: 0.3846 - val_accuracy: 0.7368 - val_loss: 0.5439\n",
            "Epoch 174/300\n",
            "\u001b[1m6/6\u001b[0m \u001b[32m━━━━━━━━━━━━━━━━━━━━\u001b[0m\u001b[37m\u001b[0m \u001b[1m1s\u001b[0m 205ms/step - accuracy: 0.8188 - loss: 0.4420 - val_accuracy: 0.7368 - val_loss: 0.5438\n",
            "Epoch 175/300\n",
            "\u001b[1m6/6\u001b[0m \u001b[32m━━━━━━━━━━━━━━━━━━━━\u001b[0m\u001b[37m\u001b[0m \u001b[1m1s\u001b[0m 204ms/step - accuracy: 0.8846 - loss: 0.4107 - val_accuracy: 0.7368 - val_loss: 0.5427\n",
            "Epoch 176/300\n",
            "\u001b[1m6/6\u001b[0m \u001b[32m━━━━━━━━━━━━━━━━━━━━\u001b[0m\u001b[37m\u001b[0m \u001b[1m1s\u001b[0m 204ms/step - accuracy: 0.7741 - loss: 0.4508 - val_accuracy: 0.7368 - val_loss: 0.5423\n",
            "Epoch 177/300\n",
            "\u001b[1m6/6\u001b[0m \u001b[32m━━━━━━━━━━━━━━━━━━━━\u001b[0m\u001b[37m\u001b[0m \u001b[1m1s\u001b[0m 204ms/step - accuracy: 0.8506 - loss: 0.4203 - val_accuracy: 0.7368 - val_loss: 0.5419\n",
            "Epoch 178/300\n",
            "\u001b[1m6/6\u001b[0m \u001b[32m━━━━━━━━━━━━━━━━━━━━\u001b[0m\u001b[37m\u001b[0m \u001b[1m1s\u001b[0m 225ms/step - accuracy: 0.8864 - loss: 0.4076 - val_accuracy: 0.7632 - val_loss: 0.5412\n",
            "Epoch 179/300\n",
            "\u001b[1m6/6\u001b[0m \u001b[32m━━━━━━━━━━━━━━━━━━━━\u001b[0m\u001b[37m\u001b[0m \u001b[1m1s\u001b[0m 207ms/step - accuracy: 0.8578 - loss: 0.4024 - val_accuracy: 0.7895 - val_loss: 0.5402\n",
            "Epoch 180/300\n",
            "\u001b[1m6/6\u001b[0m \u001b[32m━━━━━━━━━━━━━━━━━━━━\u001b[0m\u001b[37m\u001b[0m \u001b[1m1s\u001b[0m 209ms/step - accuracy: 0.8786 - loss: 0.4111 - val_accuracy: 0.7632 - val_loss: 0.5399\n",
            "Epoch 181/300\n",
            "\u001b[1m6/6\u001b[0m \u001b[32m━━━━━━━━━━━━━━━━━━━━\u001b[0m\u001b[37m\u001b[0m \u001b[1m1s\u001b[0m 212ms/step - accuracy: 0.8726 - loss: 0.4026 - val_accuracy: 0.7632 - val_loss: 0.5396\n",
            "Epoch 182/300\n",
            "\u001b[1m6/6\u001b[0m \u001b[32m━━━━━━━━━━━━━━━━━━━━\u001b[0m\u001b[37m\u001b[0m \u001b[1m3s\u001b[0m 223ms/step - accuracy: 0.8632 - loss: 0.4082 - val_accuracy: 0.7895 - val_loss: 0.5381\n",
            "Epoch 183/300\n",
            "\u001b[1m6/6\u001b[0m \u001b[32m━━━━━━━━━━━━━━━━━━━━\u001b[0m\u001b[37m\u001b[0m \u001b[1m2s\u001b[0m 203ms/step - accuracy: 0.8249 - loss: 0.4412 - val_accuracy: 0.7895 - val_loss: 0.5376\n",
            "Epoch 184/300\n",
            "\u001b[1m6/6\u001b[0m \u001b[32m━━━━━━━━━━━━━━━━━━━━\u001b[0m\u001b[37m\u001b[0m \u001b[1m1s\u001b[0m 223ms/step - accuracy: 0.8721 - loss: 0.4029 - val_accuracy: 0.7895 - val_loss: 0.5371\n",
            "Epoch 185/300\n",
            "\u001b[1m6/6\u001b[0m \u001b[32m━━━━━━━━━━━━━━━━━━━━\u001b[0m\u001b[37m\u001b[0m \u001b[1m1s\u001b[0m 202ms/step - accuracy: 0.8551 - loss: 0.4023 - val_accuracy: 0.7895 - val_loss: 0.5362\n",
            "Epoch 186/300\n",
            "\u001b[1m6/6\u001b[0m \u001b[32m━━━━━━━━━━━━━━━━━━━━\u001b[0m\u001b[37m\u001b[0m \u001b[1m1s\u001b[0m 203ms/step - accuracy: 0.8709 - loss: 0.4166 - val_accuracy: 0.7895 - val_loss: 0.5361\n",
            "Epoch 187/300\n",
            "\u001b[1m6/6\u001b[0m \u001b[32m━━━━━━━━━━━━━━━━━━━━\u001b[0m\u001b[37m\u001b[0m \u001b[1m1s\u001b[0m 202ms/step - accuracy: 0.8413 - loss: 0.4008 - val_accuracy: 0.7895 - val_loss: 0.5356\n",
            "Epoch 188/300\n",
            "\u001b[1m6/6\u001b[0m \u001b[32m━━━━━━━━━━━━━━━━━━━━\u001b[0m\u001b[37m\u001b[0m \u001b[1m1s\u001b[0m 226ms/step - accuracy: 0.8451 - loss: 0.4180 - val_accuracy: 0.7895 - val_loss: 0.5356\n",
            "Epoch 189/300\n",
            "\u001b[1m6/6\u001b[0m \u001b[32m━━━━━━━━━━━━━━━━━━━━\u001b[0m\u001b[37m\u001b[0m \u001b[1m1s\u001b[0m 228ms/step - accuracy: 0.8653 - loss: 0.4023 - val_accuracy: 0.7895 - val_loss: 0.5349\n",
            "Epoch 190/300\n",
            "\u001b[1m6/6\u001b[0m \u001b[32m━━━━━━━━━━━━━━━━━━━━\u001b[0m\u001b[37m\u001b[0m \u001b[1m1s\u001b[0m 228ms/step - accuracy: 0.8679 - loss: 0.3979 - val_accuracy: 0.7895 - val_loss: 0.5345\n",
            "Epoch 191/300\n",
            "\u001b[1m6/6\u001b[0m \u001b[32m━━━━━━━━━━━━━━━━━━━━\u001b[0m\u001b[37m\u001b[0m \u001b[1m3s\u001b[0m 221ms/step - accuracy: 0.8732 - loss: 0.3792 - val_accuracy: 0.7895 - val_loss: 0.5337\n",
            "Epoch 192/300\n",
            "\u001b[1m6/6\u001b[0m \u001b[32m━━━━━━━━━━━━━━━━━━━━\u001b[0m\u001b[37m\u001b[0m \u001b[1m3s\u001b[0m 221ms/step - accuracy: 0.8522 - loss: 0.4058 - val_accuracy: 0.7895 - val_loss: 0.5330\n",
            "Epoch 193/300\n",
            "\u001b[1m6/6\u001b[0m \u001b[32m━━━━━━━━━━━━━━━━━━━━\u001b[0m\u001b[37m\u001b[0m \u001b[1m2s\u001b[0m 202ms/step - accuracy: 0.9082 - loss: 0.3797 - val_accuracy: 0.7895 - val_loss: 0.5322\n",
            "Epoch 194/300\n",
            "\u001b[1m6/6\u001b[0m \u001b[32m━━━━━━━━━━━━━━━━━━━━\u001b[0m\u001b[37m\u001b[0m \u001b[1m1s\u001b[0m 223ms/step - accuracy: 0.8626 - loss: 0.4087 - val_accuracy: 0.7895 - val_loss: 0.5319\n",
            "Epoch 195/300\n",
            "\u001b[1m6/6\u001b[0m \u001b[32m━━━━━━━━━━━━━━━━━━━━\u001b[0m\u001b[37m\u001b[0m \u001b[1m1s\u001b[0m 202ms/step - accuracy: 0.8753 - loss: 0.4082 - val_accuracy: 0.7895 - val_loss: 0.5305\n",
            "Epoch 196/300\n",
            "\u001b[1m6/6\u001b[0m \u001b[32m━━━━━━━━━━━━━━━━━━━━\u001b[0m\u001b[37m\u001b[0m \u001b[1m1s\u001b[0m 207ms/step - accuracy: 0.8737 - loss: 0.3914 - val_accuracy: 0.7895 - val_loss: 0.5304\n",
            "Epoch 197/300\n",
            "\u001b[1m6/6\u001b[0m \u001b[32m━━━━━━━━━━━━━━━━━━━━\u001b[0m\u001b[37m\u001b[0m \u001b[1m1s\u001b[0m 227ms/step - accuracy: 0.9083 - loss: 0.3714 - val_accuracy: 0.7895 - val_loss: 0.5296\n",
            "Epoch 198/300\n",
            "\u001b[1m6/6\u001b[0m \u001b[32m━━━━━━━━━━━━━━━━━━━━\u001b[0m\u001b[37m\u001b[0m \u001b[1m2s\u001b[0m 202ms/step - accuracy: 0.8911 - loss: 0.3851 - val_accuracy: 0.7895 - val_loss: 0.5287\n",
            "Epoch 199/300\n",
            "\u001b[1m6/6\u001b[0m \u001b[32m━━━━━━━━━━━━━━━━━━━━\u001b[0m\u001b[37m\u001b[0m \u001b[1m1s\u001b[0m 203ms/step - accuracy: 0.8360 - loss: 0.4375 - val_accuracy: 0.7895 - val_loss: 0.5285\n",
            "Epoch 200/300\n",
            "\u001b[1m6/6\u001b[0m \u001b[32m━━━━━━━━━━━━━━━━━━━━\u001b[0m\u001b[37m\u001b[0m \u001b[1m1s\u001b[0m 201ms/step - accuracy: 0.8774 - loss: 0.4007 - val_accuracy: 0.7895 - val_loss: 0.5278\n",
            "Epoch 201/300\n",
            "\u001b[1m6/6\u001b[0m \u001b[32m━━━━━━━━━━━━━━━━━━━━\u001b[0m\u001b[37m\u001b[0m \u001b[1m1s\u001b[0m 205ms/step - accuracy: 0.8500 - loss: 0.3986 - val_accuracy: 0.7895 - val_loss: 0.5272\n",
            "Epoch 202/300\n",
            "\u001b[1m6/6\u001b[0m \u001b[32m━━━━━━━━━━━━━━━━━━━━\u001b[0m\u001b[37m\u001b[0m \u001b[1m1s\u001b[0m 203ms/step - accuracy: 0.9143 - loss: 0.3575 - val_accuracy: 0.7895 - val_loss: 0.5268\n",
            "Epoch 203/300\n",
            "\u001b[1m6/6\u001b[0m \u001b[32m━━━━━━━━━━━━━━━━━━━━\u001b[0m\u001b[37m\u001b[0m \u001b[1m1s\u001b[0m 207ms/step - accuracy: 0.9051 - loss: 0.3753 - val_accuracy: 0.7895 - val_loss: 0.5264\n",
            "Epoch 204/300\n",
            "\u001b[1m6/6\u001b[0m \u001b[32m━━━━━━━━━━━━━━━━━━━━\u001b[0m\u001b[37m\u001b[0m \u001b[1m1s\u001b[0m 204ms/step - accuracy: 0.8512 - loss: 0.3945 - val_accuracy: 0.7895 - val_loss: 0.5262\n",
            "Epoch 205/300\n",
            "\u001b[1m6/6\u001b[0m \u001b[32m━━━━━━━━━━━━━━━━━━━━\u001b[0m\u001b[37m\u001b[0m \u001b[1m1s\u001b[0m 208ms/step - accuracy: 0.9068 - loss: 0.3772 - val_accuracy: 0.7895 - val_loss: 0.5257\n",
            "Epoch 206/300\n",
            "\u001b[1m6/6\u001b[0m \u001b[32m━━━━━━━━━━━━━━━━━━━━\u001b[0m\u001b[37m\u001b[0m \u001b[1m1s\u001b[0m 230ms/step - accuracy: 0.9037 - loss: 0.3897 - val_accuracy: 0.7895 - val_loss: 0.5255\n",
            "Epoch 207/300\n",
            "\u001b[1m6/6\u001b[0m \u001b[32m━━━━━━━━━━━━━━━━━━━━\u001b[0m\u001b[37m\u001b[0m \u001b[1m1s\u001b[0m 228ms/step - accuracy: 0.9264 - loss: 0.3541 - val_accuracy: 0.7895 - val_loss: 0.5255\n",
            "Epoch 208/300\n",
            "\u001b[1m6/6\u001b[0m \u001b[32m━━━━━━━━━━━━━━━━━━━━\u001b[0m\u001b[37m\u001b[0m \u001b[1m1s\u001b[0m 203ms/step - accuracy: 0.8857 - loss: 0.3567 - val_accuracy: 0.7895 - val_loss: 0.5249\n",
            "Epoch 209/300\n",
            "\u001b[1m6/6\u001b[0m \u001b[32m━━━━━━━━━━━━━━━━━━━━\u001b[0m\u001b[37m\u001b[0m \u001b[1m1s\u001b[0m 205ms/step - accuracy: 0.8540 - loss: 0.3998 - val_accuracy: 0.7895 - val_loss: 0.5243\n",
            "Epoch 210/300\n",
            "\u001b[1m6/6\u001b[0m \u001b[32m━━━━━━━━━━━━━━━━━━━━\u001b[0m\u001b[37m\u001b[0m \u001b[1m1s\u001b[0m 222ms/step - accuracy: 0.9120 - loss: 0.3756 - val_accuracy: 0.7895 - val_loss: 0.5235\n",
            "Epoch 211/300\n",
            "\u001b[1m6/6\u001b[0m \u001b[32m━━━━━━━━━━━━━━━━━━━━\u001b[0m\u001b[37m\u001b[0m \u001b[1m3s\u001b[0m 222ms/step - accuracy: 0.8578 - loss: 0.3819 - val_accuracy: 0.7895 - val_loss: 0.5231\n",
            "Epoch 212/300\n",
            "\u001b[1m6/6\u001b[0m \u001b[32m━━━━━━━━━━━━━━━━━━━━\u001b[0m\u001b[37m\u001b[0m \u001b[1m1s\u001b[0m 225ms/step - accuracy: 0.8493 - loss: 0.3903 - val_accuracy: 0.7895 - val_loss: 0.5230\n",
            "Epoch 213/300\n",
            "\u001b[1m6/6\u001b[0m \u001b[32m━━━━━━━━━━━━━━━━━━━━\u001b[0m\u001b[37m\u001b[0m \u001b[1m1s\u001b[0m 206ms/step - accuracy: 0.8960 - loss: 0.3754 - val_accuracy: 0.7895 - val_loss: 0.5224\n",
            "Epoch 214/300\n",
            "\u001b[1m6/6\u001b[0m \u001b[32m━━━━━━━━━━━━━━━━━━━━\u001b[0m\u001b[37m\u001b[0m \u001b[1m1s\u001b[0m 204ms/step - accuracy: 0.8691 - loss: 0.3789 - val_accuracy: 0.7895 - val_loss: 0.5220\n",
            "Epoch 215/300\n",
            "\u001b[1m6/6\u001b[0m \u001b[32m━━━━━━━━━━━━━━━━━━━━\u001b[0m\u001b[37m\u001b[0m \u001b[1m1s\u001b[0m 227ms/step - accuracy: 0.9036 - loss: 0.3777 - val_accuracy: 0.7895 - val_loss: 0.5213\n",
            "Epoch 216/300\n",
            "\u001b[1m6/6\u001b[0m \u001b[32m━━━━━━━━━━━━━━━━━━━━\u001b[0m\u001b[37m\u001b[0m \u001b[1m1s\u001b[0m 210ms/step - accuracy: 0.8385 - loss: 0.4031 - val_accuracy: 0.7895 - val_loss: 0.5210\n",
            "Epoch 217/300\n",
            "\u001b[1m6/6\u001b[0m \u001b[32m━━━━━━━━━━━━━━━━━━━━\u001b[0m\u001b[37m\u001b[0m \u001b[1m1s\u001b[0m 210ms/step - accuracy: 0.8929 - loss: 0.3525 - val_accuracy: 0.7895 - val_loss: 0.5205\n",
            "Epoch 218/300\n",
            "\u001b[1m6/6\u001b[0m \u001b[32m━━━━━━━━━━━━━━━━━━━━\u001b[0m\u001b[37m\u001b[0m \u001b[1m1s\u001b[0m 224ms/step - accuracy: 0.8829 - loss: 0.3802 - val_accuracy: 0.7895 - val_loss: 0.5197\n",
            "Epoch 219/300\n",
            "\u001b[1m6/6\u001b[0m \u001b[32m━━━━━━━━━━━━━━━━━━━━\u001b[0m\u001b[37m\u001b[0m \u001b[1m2s\u001b[0m 205ms/step - accuracy: 0.8797 - loss: 0.3812 - val_accuracy: 0.7895 - val_loss: 0.5195\n",
            "Epoch 220/300\n",
            "\u001b[1m6/6\u001b[0m \u001b[32m━━━━━━━━━━━━━━━━━━━━\u001b[0m\u001b[37m\u001b[0m \u001b[1m1s\u001b[0m 203ms/step - accuracy: 0.9034 - loss: 0.4033 - val_accuracy: 0.7895 - val_loss: 0.5193\n",
            "Epoch 221/300\n",
            "\u001b[1m6/6\u001b[0m \u001b[32m━━━━━━━━━━━━━━━━━━━━\u001b[0m\u001b[37m\u001b[0m \u001b[1m1s\u001b[0m 223ms/step - accuracy: 0.8737 - loss: 0.3882 - val_accuracy: 0.7895 - val_loss: 0.5193\n",
            "Epoch 222/300\n",
            "\u001b[1m6/6\u001b[0m \u001b[32m━━━━━━━━━━━━━━━━━━━━\u001b[0m\u001b[37m\u001b[0m \u001b[1m2s\u001b[0m 203ms/step - accuracy: 0.8767 - loss: 0.3463 - val_accuracy: 0.7895 - val_loss: 0.5182\n",
            "Epoch 223/300\n",
            "\u001b[1m6/6\u001b[0m \u001b[32m━━━━━━━━━━━━━━━━━━━━\u001b[0m\u001b[37m\u001b[0m \u001b[1m1s\u001b[0m 203ms/step - accuracy: 0.9051 - loss: 0.3629 - val_accuracy: 0.7895 - val_loss: 0.5180\n",
            "Epoch 224/300\n",
            "\u001b[1m6/6\u001b[0m \u001b[32m━━━━━━━━━━━━━━━━━━━━\u001b[0m\u001b[37m\u001b[0m \u001b[1m1s\u001b[0m 226ms/step - accuracy: 0.8733 - loss: 0.3726 - val_accuracy: 0.7895 - val_loss: 0.5173\n",
            "Epoch 225/300\n",
            "\u001b[1m6/6\u001b[0m \u001b[32m━━━━━━━━━━━━━━━━━━━━\u001b[0m\u001b[37m\u001b[0m \u001b[1m1s\u001b[0m 210ms/step - accuracy: 0.8541 - loss: 0.3771 - val_accuracy: 0.7895 - val_loss: 0.5169\n",
            "Epoch 226/300\n",
            "\u001b[1m6/6\u001b[0m \u001b[32m━━━━━━━━━━━━━━━━━━━━\u001b[0m\u001b[37m\u001b[0m \u001b[1m1s\u001b[0m 208ms/step - accuracy: 0.9049 - loss: 0.3493 - val_accuracy: 0.7895 - val_loss: 0.5160\n",
            "Epoch 227/300\n",
            "\u001b[1m6/6\u001b[0m \u001b[32m━━━━━━━━━━━━━━━━━━━━\u001b[0m\u001b[37m\u001b[0m \u001b[1m1s\u001b[0m 204ms/step - accuracy: 0.9227 - loss: 0.3684 - val_accuracy: 0.7895 - val_loss: 0.5153\n",
            "Epoch 228/300\n",
            "\u001b[1m6/6\u001b[0m \u001b[32m━━━━━━━━━━━━━━━━━━━━\u001b[0m\u001b[37m\u001b[0m \u001b[1m1s\u001b[0m 204ms/step - accuracy: 0.8835 - loss: 0.3642 - val_accuracy: 0.7895 - val_loss: 0.5150\n",
            "Epoch 229/300\n",
            "\u001b[1m6/6\u001b[0m \u001b[32m━━━━━━━━━━━━━━━━━━━━\u001b[0m\u001b[37m\u001b[0m \u001b[1m1s\u001b[0m 203ms/step - accuracy: 0.9073 - loss: 0.3492 - val_accuracy: 0.7895 - val_loss: 0.5148\n",
            "Epoch 230/300\n",
            "\u001b[1m6/6\u001b[0m \u001b[32m━━━━━━━━━━━━━━━━━━━━\u001b[0m\u001b[37m\u001b[0m \u001b[1m1s\u001b[0m 203ms/step - accuracy: 0.8707 - loss: 0.3530 - val_accuracy: 0.7895 - val_loss: 0.5140\n",
            "Epoch 231/300\n",
            "\u001b[1m6/6\u001b[0m \u001b[32m━━━━━━━━━━━━━━━━━━━━\u001b[0m\u001b[37m\u001b[0m \u001b[1m1s\u001b[0m 205ms/step - accuracy: 0.8838 - loss: 0.3564 - val_accuracy: 0.7895 - val_loss: 0.5136\n",
            "Epoch 232/300\n",
            "\u001b[1m6/6\u001b[0m \u001b[32m━━━━━━━━━━━━━━━━━━━━\u001b[0m\u001b[37m\u001b[0m \u001b[1m1s\u001b[0m 203ms/step - accuracy: 0.8585 - loss: 0.3743 - val_accuracy: 0.7895 - val_loss: 0.5129\n",
            "Epoch 233/300\n",
            "\u001b[1m6/6\u001b[0m \u001b[32m━━━━━━━━━━━━━━━━━━━━\u001b[0m\u001b[37m\u001b[0m \u001b[1m1s\u001b[0m 203ms/step - accuracy: 0.9140 - loss: 0.3442 - val_accuracy: 0.8158 - val_loss: 0.5125\n",
            "Epoch 234/300\n",
            "\u001b[1m6/6\u001b[0m \u001b[32m━━━━━━━━━━━━━━━━━━━━\u001b[0m\u001b[37m\u001b[0m \u001b[1m1s\u001b[0m 224ms/step - accuracy: 0.9019 - loss: 0.3686 - val_accuracy: 0.8158 - val_loss: 0.5120\n",
            "Epoch 235/300\n",
            "\u001b[1m6/6\u001b[0m \u001b[32m━━━━━━━━━━━━━━━━━━━━\u001b[0m\u001b[37m\u001b[0m \u001b[1m3s\u001b[0m 230ms/step - accuracy: 0.9237 - loss: 0.3558 - val_accuracy: 0.7895 - val_loss: 0.5118\n",
            "Epoch 236/300\n",
            "\u001b[1m6/6\u001b[0m \u001b[32m━━━━━━━━━━━━━━━━━━━━\u001b[0m\u001b[37m\u001b[0m \u001b[1m2s\u001b[0m 220ms/step - accuracy: 0.8879 - loss: 0.3762 - val_accuracy: 0.7895 - val_loss: 0.5114\n",
            "Epoch 237/300\n",
            "\u001b[1m6/6\u001b[0m \u001b[32m━━━━━━━━━━━━━━━━━━━━\u001b[0m\u001b[37m\u001b[0m \u001b[1m1s\u001b[0m 206ms/step - accuracy: 0.8960 - loss: 0.3586 - val_accuracy: 0.7895 - val_loss: 0.5108\n",
            "Epoch 238/300\n",
            "\u001b[1m6/6\u001b[0m \u001b[32m━━━━━━━━━━━━━━━━━━━━\u001b[0m\u001b[37m\u001b[0m \u001b[1m1s\u001b[0m 202ms/step - accuracy: 0.9171 - loss: 0.3405 - val_accuracy: 0.7895 - val_loss: 0.5110\n",
            "Epoch 239/300\n",
            "\u001b[1m6/6\u001b[0m \u001b[32m━━━━━━━━━━━━━━━━━━━━\u001b[0m\u001b[37m\u001b[0m \u001b[1m1s\u001b[0m 205ms/step - accuracy: 0.8943 - loss: 0.3757 - val_accuracy: 0.7895 - val_loss: 0.5102\n",
            "Epoch 240/300\n",
            "\u001b[1m6/6\u001b[0m \u001b[32m━━━━━━━━━━━━━━━━━━━━\u001b[0m\u001b[37m\u001b[0m \u001b[1m1s\u001b[0m 222ms/step - accuracy: 0.9045 - loss: 0.3503 - val_accuracy: 0.7895 - val_loss: 0.5103\n",
            "Epoch 241/300\n",
            "\u001b[1m6/6\u001b[0m \u001b[32m━━━━━━━━━━━━━━━━━━━━\u001b[0m\u001b[37m\u001b[0m \u001b[1m1s\u001b[0m 202ms/step - accuracy: 0.8987 - loss: 0.3600 - val_accuracy: 0.7895 - val_loss: 0.5096\n",
            "Epoch 242/300\n",
            "\u001b[1m6/6\u001b[0m \u001b[32m━━━━━━━━━━━━━━━━━━━━\u001b[0m\u001b[37m\u001b[0m \u001b[1m1s\u001b[0m 204ms/step - accuracy: 0.9156 - loss: 0.3415 - val_accuracy: 0.7895 - val_loss: 0.5093\n",
            "Epoch 243/300\n",
            "\u001b[1m6/6\u001b[0m \u001b[32m━━━━━━━━━━━━━━━━━━━━\u001b[0m\u001b[37m\u001b[0m \u001b[1m1s\u001b[0m 211ms/step - accuracy: 0.8640 - loss: 0.3751 - val_accuracy: 0.7895 - val_loss: 0.5089\n",
            "Epoch 244/300\n",
            "\u001b[1m6/6\u001b[0m \u001b[32m━━━━━━━━━━━━━━━━━━━━\u001b[0m\u001b[37m\u001b[0m \u001b[1m1s\u001b[0m 228ms/step - accuracy: 0.9049 - loss: 0.3529 - val_accuracy: 0.7895 - val_loss: 0.5086\n",
            "Epoch 245/300\n",
            "\u001b[1m6/6\u001b[0m \u001b[32m━━━━━━━━━━━━━━━━━━━━\u001b[0m\u001b[37m\u001b[0m \u001b[1m1s\u001b[0m 227ms/step - accuracy: 0.9213 - loss: 0.3602 - val_accuracy: 0.8158 - val_loss: 0.5082\n",
            "Epoch 246/300\n",
            "\u001b[1m6/6\u001b[0m \u001b[32m━━━━━━━━━━━━━━━━━━━━\u001b[0m\u001b[37m\u001b[0m \u001b[1m1s\u001b[0m 222ms/step - accuracy: 0.9278 - loss: 0.3453 - val_accuracy: 0.8158 - val_loss: 0.5076\n",
            "Epoch 247/300\n",
            "\u001b[1m6/6\u001b[0m \u001b[32m━━━━━━━━━━━━━━━━━━━━\u001b[0m\u001b[37m\u001b[0m \u001b[1m1s\u001b[0m 206ms/step - accuracy: 0.8574 - loss: 0.3648 - val_accuracy: 0.8158 - val_loss: 0.5069\n",
            "Epoch 248/300\n",
            "\u001b[1m6/6\u001b[0m \u001b[32m━━━━━━━━━━━━━━━━━━━━\u001b[0m\u001b[37m\u001b[0m \u001b[1m1s\u001b[0m 203ms/step - accuracy: 0.9519 - loss: 0.3244 - val_accuracy: 0.8158 - val_loss: 0.5066\n",
            "Epoch 249/300\n",
            "\u001b[1m6/6\u001b[0m \u001b[32m━━━━━━━━━━━━━━━━━━━━\u001b[0m\u001b[37m\u001b[0m \u001b[1m1s\u001b[0m 223ms/step - accuracy: 0.9117 - loss: 0.3544 - val_accuracy: 0.8158 - val_loss: 0.5059\n",
            "Epoch 250/300\n",
            "\u001b[1m6/6\u001b[0m \u001b[32m━━━━━━━━━━━━━━━━━━━━\u001b[0m\u001b[37m\u001b[0m \u001b[1m1s\u001b[0m 204ms/step - accuracy: 0.9051 - loss: 0.3615 - val_accuracy: 0.8158 - val_loss: 0.5057\n",
            "Epoch 251/300\n",
            "\u001b[1m6/6\u001b[0m \u001b[32m━━━━━━━━━━━━━━━━━━━━\u001b[0m\u001b[37m\u001b[0m \u001b[1m1s\u001b[0m 224ms/step - accuracy: 0.8938 - loss: 0.3501 - val_accuracy: 0.7895 - val_loss: 0.5056\n",
            "Epoch 252/300\n",
            "\u001b[1m6/6\u001b[0m \u001b[32m━━━━━━━━━━━━━━━━━━━━\u001b[0m\u001b[37m\u001b[0m \u001b[1m1s\u001b[0m 204ms/step - accuracy: 0.9165 - loss: 0.3355 - val_accuracy: 0.8158 - val_loss: 0.5050\n",
            "Epoch 253/300\n",
            "\u001b[1m6/6\u001b[0m \u001b[32m━━━━━━━━━━━━━━━━━━━━\u001b[0m\u001b[37m\u001b[0m \u001b[1m1s\u001b[0m 221ms/step - accuracy: 0.9179 - loss: 0.3446 - val_accuracy: 0.8158 - val_loss: 0.5048\n",
            "Epoch 254/300\n",
            "\u001b[1m6/6\u001b[0m \u001b[32m━━━━━━━━━━━━━━━━━━━━\u001b[0m\u001b[37m\u001b[0m \u001b[1m1s\u001b[0m 211ms/step - accuracy: 0.9177 - loss: 0.3295 - val_accuracy: 0.8158 - val_loss: 0.5039\n",
            "Epoch 255/300\n",
            "\u001b[1m6/6\u001b[0m \u001b[32m━━━━━━━━━━━━━━━━━━━━\u001b[0m\u001b[37m\u001b[0m \u001b[1m1s\u001b[0m 228ms/step - accuracy: 0.9132 - loss: 0.3394 - val_accuracy: 0.8158 - val_loss: 0.5035\n",
            "Epoch 256/300\n",
            "\u001b[1m6/6\u001b[0m \u001b[32m━━━━━━━━━━━━━━━━━━━━\u001b[0m\u001b[37m\u001b[0m \u001b[1m1s\u001b[0m 229ms/step - accuracy: 0.9047 - loss: 0.3551 - val_accuracy: 0.8158 - val_loss: 0.5036\n",
            "Epoch 257/300\n",
            "\u001b[1m6/6\u001b[0m \u001b[32m━━━━━━━━━━━━━━━━━━━━\u001b[0m\u001b[37m\u001b[0m \u001b[1m1s\u001b[0m 205ms/step - accuracy: 0.9210 - loss: 0.3441 - val_accuracy: 0.8158 - val_loss: 0.5032\n",
            "Epoch 258/300\n",
            "\u001b[1m6/6\u001b[0m \u001b[32m━━━━━━━━━━━━━━━━━━━━\u001b[0m\u001b[37m\u001b[0m \u001b[1m1s\u001b[0m 208ms/step - accuracy: 0.9033 - loss: 0.3515 - val_accuracy: 0.8158 - val_loss: 0.5024\n",
            "Epoch 259/300\n",
            "\u001b[1m6/6\u001b[0m \u001b[32m━━━━━━━━━━━━━━━━━━━━\u001b[0m\u001b[37m\u001b[0m \u001b[1m1s\u001b[0m 225ms/step - accuracy: 0.9106 - loss: 0.3499 - val_accuracy: 0.8158 - val_loss: 0.5021\n",
            "Epoch 260/300\n",
            "\u001b[1m6/6\u001b[0m \u001b[32m━━━━━━━━━━━━━━━━━━━━\u001b[0m\u001b[37m\u001b[0m \u001b[1m2s\u001b[0m 205ms/step - accuracy: 0.8807 - loss: 0.3518 - val_accuracy: 0.8158 - val_loss: 0.5015\n",
            "Epoch 261/300\n",
            "\u001b[1m6/6\u001b[0m \u001b[32m━━━━━━━━━━━━━━━━━━━━\u001b[0m\u001b[37m\u001b[0m \u001b[1m1s\u001b[0m 203ms/step - accuracy: 0.9236 - loss: 0.3412 - val_accuracy: 0.8158 - val_loss: 0.5018\n",
            "Epoch 262/300\n",
            "\u001b[1m6/6\u001b[0m \u001b[32m━━━━━━━━━━━━━━━━━━━━\u001b[0m\u001b[37m\u001b[0m \u001b[1m1s\u001b[0m 222ms/step - accuracy: 0.9154 - loss: 0.3477 - val_accuracy: 0.8158 - val_loss: 0.5014\n",
            "Epoch 263/300\n",
            "\u001b[1m6/6\u001b[0m \u001b[32m━━━━━━━━━━━━━━━━━━━━\u001b[0m\u001b[37m\u001b[0m \u001b[1m1s\u001b[0m 224ms/step - accuracy: 0.9191 - loss: 0.3301 - val_accuracy: 0.8158 - val_loss: 0.5012\n",
            "Epoch 264/300\n",
            "\u001b[1m6/6\u001b[0m \u001b[32m━━━━━━━━━━━━━━━━━━━━\u001b[0m\u001b[37m\u001b[0m \u001b[1m1s\u001b[0m 208ms/step - accuracy: 0.9292 - loss: 0.3209 - val_accuracy: 0.8158 - val_loss: 0.5003\n",
            "Epoch 265/300\n",
            "\u001b[1m6/6\u001b[0m \u001b[32m━━━━━━━━━━━━━━━━━━━━\u001b[0m\u001b[37m\u001b[0m \u001b[1m1s\u001b[0m 215ms/step - accuracy: 0.9278 - loss: 0.3379 - val_accuracy: 0.8158 - val_loss: 0.5001\n",
            "Epoch 266/300\n",
            "\u001b[1m6/6\u001b[0m \u001b[32m━━━━━━━━━━━━━━━━━━━━\u001b[0m\u001b[37m\u001b[0m \u001b[1m1s\u001b[0m 228ms/step - accuracy: 0.9063 - loss: 0.3461 - val_accuracy: 0.8158 - val_loss: 0.4995\n",
            "Epoch 267/300\n",
            "\u001b[1m6/6\u001b[0m \u001b[32m━━━━━━━━━━━━━━━━━━━━\u001b[0m\u001b[37m\u001b[0m \u001b[1m1s\u001b[0m 205ms/step - accuracy: 0.9251 - loss: 0.3188 - val_accuracy: 0.8158 - val_loss: 0.4995\n",
            "Epoch 268/300\n",
            "\u001b[1m6/6\u001b[0m \u001b[32m━━━━━━━━━━━━━━━━━━━━\u001b[0m\u001b[37m\u001b[0m \u001b[1m1s\u001b[0m 204ms/step - accuracy: 0.9182 - loss: 0.3319 - val_accuracy: 0.8158 - val_loss: 0.4995\n",
            "Epoch 269/300\n",
            "\u001b[1m6/6\u001b[0m \u001b[32m━━━━━━━━━━━━━━━━━━━━\u001b[0m\u001b[37m\u001b[0m \u001b[1m1s\u001b[0m 204ms/step - accuracy: 0.9398 - loss: 0.3176 - val_accuracy: 0.8158 - val_loss: 0.4988\n",
            "Epoch 270/300\n",
            "\u001b[1m6/6\u001b[0m \u001b[32m━━━━━━━━━━━━━━━━━━━━\u001b[0m\u001b[37m\u001b[0m \u001b[1m1s\u001b[0m 204ms/step - accuracy: 0.9194 - loss: 0.3450 - val_accuracy: 0.8158 - val_loss: 0.4984\n",
            "Epoch 271/300\n",
            "\u001b[1m6/6\u001b[0m \u001b[32m━━━━━━━━━━━━━━━━━━━━\u001b[0m\u001b[37m\u001b[0m \u001b[1m1s\u001b[0m 201ms/step - accuracy: 0.9237 - loss: 0.3280 - val_accuracy: 0.8158 - val_loss: 0.4983\n",
            "Epoch 272/300\n",
            "\u001b[1m6/6\u001b[0m \u001b[32m━━━━━━━━━━━━━━━━━━━━\u001b[0m\u001b[37m\u001b[0m \u001b[1m1s\u001b[0m 204ms/step - accuracy: 0.9312 - loss: 0.3176 - val_accuracy: 0.8158 - val_loss: 0.4973\n",
            "Epoch 273/300\n",
            "\u001b[1m6/6\u001b[0m \u001b[32m━━━━━━━━━━━━━━━━━━━━\u001b[0m\u001b[37m\u001b[0m \u001b[1m1s\u001b[0m 222ms/step - accuracy: 0.9132 - loss: 0.3194 - val_accuracy: 0.8158 - val_loss: 0.4972\n",
            "Epoch 274/300\n",
            "\u001b[1m6/6\u001b[0m \u001b[32m━━━━━━━━━━━━━━━━━━━━\u001b[0m\u001b[37m\u001b[0m \u001b[1m2s\u001b[0m 209ms/step - accuracy: 0.8887 - loss: 0.3363 - val_accuracy: 0.8158 - val_loss: 0.4969\n",
            "Epoch 275/300\n",
            "\u001b[1m6/6\u001b[0m \u001b[32m━━━━━━━━━━━━━━━━━━━━\u001b[0m\u001b[37m\u001b[0m \u001b[1m1s\u001b[0m 230ms/step - accuracy: 0.9234 - loss: 0.3160 - val_accuracy: 0.8158 - val_loss: 0.4961\n",
            "Epoch 276/300\n",
            "\u001b[1m6/6\u001b[0m \u001b[32m━━━━━━━━━━━━━━━━━━━━\u001b[0m\u001b[37m\u001b[0m \u001b[1m2s\u001b[0m 202ms/step - accuracy: 0.9261 - loss: 0.3028 - val_accuracy: 0.8158 - val_loss: 0.4952\n",
            "Epoch 277/300\n",
            "\u001b[1m6/6\u001b[0m \u001b[32m━━━━━━━━━━━━━━━━━━━━\u001b[0m\u001b[37m\u001b[0m \u001b[1m1s\u001b[0m 222ms/step - accuracy: 0.9319 - loss: 0.3413 - val_accuracy: 0.8158 - val_loss: 0.4948\n",
            "Epoch 278/300\n",
            "\u001b[1m6/6\u001b[0m \u001b[32m━━━━━━━━━━━━━━━━━━━━\u001b[0m\u001b[37m\u001b[0m \u001b[1m1s\u001b[0m 223ms/step - accuracy: 0.9518 - loss: 0.3027 - val_accuracy: 0.8158 - val_loss: 0.4944\n",
            "Epoch 279/300\n",
            "\u001b[1m6/6\u001b[0m \u001b[32m━━━━━━━━━━━━━━━━━━━━\u001b[0m\u001b[37m\u001b[0m \u001b[1m1s\u001b[0m 205ms/step - accuracy: 0.9296 - loss: 0.3434 - val_accuracy: 0.8158 - val_loss: 0.4939\n",
            "Epoch 280/300\n",
            "\u001b[1m6/6\u001b[0m \u001b[32m━━━━━━━━━━━━━━━━━━━━\u001b[0m\u001b[37m\u001b[0m \u001b[1m1s\u001b[0m 203ms/step - accuracy: 0.9421 - loss: 0.3193 - val_accuracy: 0.8158 - val_loss: 0.4932\n",
            "Epoch 281/300\n",
            "\u001b[1m6/6\u001b[0m \u001b[32m━━━━━━━━━━━━━━━━━━━━\u001b[0m\u001b[37m\u001b[0m \u001b[1m1s\u001b[0m 205ms/step - accuracy: 0.8836 - loss: 0.3502 - val_accuracy: 0.8158 - val_loss: 0.4923\n",
            "Epoch 282/300\n",
            "\u001b[1m6/6\u001b[0m \u001b[32m━━━━━━━━━━━━━━━━━━━━\u001b[0m\u001b[37m\u001b[0m \u001b[1m1s\u001b[0m 204ms/step - accuracy: 0.9117 - loss: 0.3301 - val_accuracy: 0.8158 - val_loss: 0.4914\n",
            "Epoch 283/300\n",
            "\u001b[1m6/6\u001b[0m \u001b[32m━━━━━━━━━━━━━━━━━━━━\u001b[0m\u001b[37m\u001b[0m \u001b[1m1s\u001b[0m 209ms/step - accuracy: 0.9185 - loss: 0.3058 - val_accuracy: 0.8158 - val_loss: 0.4912\n",
            "Epoch 284/300\n",
            "\u001b[1m6/6\u001b[0m \u001b[32m━━━━━━━━━━━━━━━━━━━━\u001b[0m\u001b[37m\u001b[0m \u001b[1m1s\u001b[0m 227ms/step - accuracy: 0.9415 - loss: 0.3226 - val_accuracy: 0.8158 - val_loss: 0.4913\n",
            "Epoch 285/300\n",
            "\u001b[1m6/6\u001b[0m \u001b[32m━━━━━━━━━━━━━━━━━━━━\u001b[0m\u001b[37m\u001b[0m \u001b[1m3s\u001b[0m 224ms/step - accuracy: 0.9358 - loss: 0.2979 - val_accuracy: 0.8158 - val_loss: 0.4907\n",
            "Epoch 286/300\n",
            "\u001b[1m6/6\u001b[0m \u001b[32m━━━━━━━━━━━━━━━━━━━━\u001b[0m\u001b[37m\u001b[0m \u001b[1m1s\u001b[0m 223ms/step - accuracy: 0.9145 - loss: 0.3190 - val_accuracy: 0.8158 - val_loss: 0.4901\n",
            "Epoch 287/300\n",
            "\u001b[1m6/6\u001b[0m \u001b[32m━━━━━━━━━━━━━━━━━━━━\u001b[0m\u001b[37m\u001b[0m \u001b[1m2s\u001b[0m 202ms/step - accuracy: 0.9497 - loss: 0.3116 - val_accuracy: 0.8158 - val_loss: 0.4902\n",
            "Epoch 288/300\n",
            "\u001b[1m6/6\u001b[0m \u001b[32m━━━━━━━━━━━━━━━━━━━━\u001b[0m\u001b[37m\u001b[0m \u001b[1m1s\u001b[0m 222ms/step - accuracy: 0.9011 - loss: 0.3073 - val_accuracy: 0.8158 - val_loss: 0.4892\n",
            "Epoch 289/300\n",
            "\u001b[1m6/6\u001b[0m \u001b[32m━━━━━━━━━━━━━━━━━━━━\u001b[0m\u001b[37m\u001b[0m \u001b[1m1s\u001b[0m 221ms/step - accuracy: 0.9278 - loss: 0.3194 - val_accuracy: 0.8158 - val_loss: 0.4888\n",
            "Epoch 290/300\n",
            "\u001b[1m6/6\u001b[0m \u001b[32m━━━━━━━━━━━━━━━━━━━━\u001b[0m\u001b[37m\u001b[0m \u001b[1m2s\u001b[0m 208ms/step - accuracy: 0.9154 - loss: 0.3382 - val_accuracy: 0.8158 - val_loss: 0.4887\n",
            "Epoch 291/300\n",
            "\u001b[1m6/6\u001b[0m \u001b[32m━━━━━━━━━━━━━━━━━━━━\u001b[0m\u001b[37m\u001b[0m \u001b[1m1s\u001b[0m 228ms/step - accuracy: 0.9388 - loss: 0.3082 - val_accuracy: 0.8158 - val_loss: 0.4885\n",
            "Epoch 292/300\n",
            "\u001b[1m6/6\u001b[0m \u001b[32m━━━━━━━━━━━━━━━━━━━━\u001b[0m\u001b[37m\u001b[0m \u001b[1m1s\u001b[0m 226ms/step - accuracy: 0.9173 - loss: 0.3107 - val_accuracy: 0.8158 - val_loss: 0.4886\n",
            "Epoch 293/300\n",
            "\u001b[1m6/6\u001b[0m \u001b[32m━━━━━━━━━━━━━━━━━━━━\u001b[0m\u001b[37m\u001b[0m \u001b[1m1s\u001b[0m 205ms/step - accuracy: 0.9345 - loss: 0.3017 - val_accuracy: 0.8158 - val_loss: 0.4881\n",
            "Epoch 294/300\n",
            "\u001b[1m6/6\u001b[0m \u001b[32m━━━━━━━━━━━━━━━━━━━━\u001b[0m\u001b[37m\u001b[0m \u001b[1m1s\u001b[0m 222ms/step - accuracy: 0.9192 - loss: 0.3171 - val_accuracy: 0.8158 - val_loss: 0.4878\n",
            "Epoch 295/300\n",
            "\u001b[1m6/6\u001b[0m \u001b[32m━━━━━━━━━━━━━━━━━━━━\u001b[0m\u001b[37m\u001b[0m \u001b[1m2s\u001b[0m 203ms/step - accuracy: 0.9256 - loss: 0.3240 - val_accuracy: 0.8158 - val_loss: 0.4873\n",
            "Epoch 296/300\n",
            "\u001b[1m6/6\u001b[0m \u001b[32m━━━━━━━━━━━━━━━━━━━━\u001b[0m\u001b[37m\u001b[0m \u001b[1m1s\u001b[0m 203ms/step - accuracy: 0.8823 - loss: 0.3171 - val_accuracy: 0.8158 - val_loss: 0.4867\n",
            "Epoch 297/300\n",
            "\u001b[1m6/6\u001b[0m \u001b[32m━━━━━━━━━━━━━━━━━━━━\u001b[0m\u001b[37m\u001b[0m \u001b[1m1s\u001b[0m 202ms/step - accuracy: 0.9280 - loss: 0.3242 - val_accuracy: 0.8158 - val_loss: 0.4868\n",
            "Epoch 298/300\n",
            "\u001b[1m6/6\u001b[0m \u001b[32m━━━━━━━━━━━━━━━━━━━━\u001b[0m\u001b[37m\u001b[0m \u001b[1m1s\u001b[0m 203ms/step - accuracy: 0.9432 - loss: 0.2931 - val_accuracy: 0.8158 - val_loss: 0.4867\n",
            "Epoch 299/300\n",
            "\u001b[1m6/6\u001b[0m \u001b[32m━━━━━━━━━━━━━━━━━━━━\u001b[0m\u001b[37m\u001b[0m \u001b[1m1s\u001b[0m 205ms/step - accuracy: 0.9095 - loss: 0.3240 - val_accuracy: 0.8158 - val_loss: 0.4864\n",
            "Epoch 300/300\n",
            "\u001b[1m6/6\u001b[0m \u001b[32m━━━━━━━━━━━━━━━━━━━━\u001b[0m\u001b[37m\u001b[0m \u001b[1m1s\u001b[0m 226ms/step - accuracy: 0.9335 - loss: 0.3059 - val_accuracy: 0.8158 - val_loss: 0.4860\n"
          ]
        }
      ],
      "source": [
        "history = tf_model.fit(X_train, y_train, batch_size =32, epochs = 300, initial_epoch = 0, validation_data = (X_val, y_val),callbacks=EarlyStopping(monitor=\"val_loss\", mode=\"min\", verbose=1, patience=15))"
      ]
    },
    {
      "cell_type": "code",
      "execution_count": null,
      "metadata": {
        "id": "tMlEuoolr0Ws",
        "colab": {
          "base_uri": "https://localhost:8080/"
        },
        "outputId": "fc48d2bf-2c57-4850-ab0c-f387f6556abe"
      },
      "outputs": [
        {
          "output_type": "stream",
          "name": "stdout",
          "text": [
            "\u001b[1m2/2\u001b[0m \u001b[32m━━━━━━━━━━━━━━━━━━━━\u001b[0m\u001b[37m\u001b[0m \u001b[1m1s\u001b[0m 555ms/step\n"
          ]
        }
      ],
      "source": [
        "y_predt = tf_model.predict(X_test)\n",
        "ytest3=np.argmax(y_test,axis=1)\n",
        "y_predt= np.argmax(y_predt,axis=1)"
      ]
    },
    {
      "cell_type": "code",
      "source": [
        "from sklearn.metrics import accuracy_score\n",
        "\n",
        "# y_true são as verdadeiras, y_pred são as previsões do modelo\n",
        "accuracy = accuracy_score(y_predt,ytest3)\n",
        "print(f'Acurácia: {accuracy}')"
      ],
      "metadata": {
        "colab": {
          "base_uri": "https://localhost:8080/"
        },
        "id": "mpqaxmWpA1ul",
        "outputId": "91784f3e-e34f-4985-c3d7-0c1f45f97bd5"
      },
      "execution_count": null,
      "outputs": [
        {
          "output_type": "stream",
          "name": "stdout",
          "text": [
            "Acurácia: 0.8157894736842105\n"
          ]
        }
      ]
    },
    {
      "cell_type": "code",
      "source": [
        "from sklearn.metrics import precision_score\n",
        "\n",
        "precision = precision_score(y_predt,ytest3, average='binary')\n",
        "print(f'Precisão: {precision}')"
      ],
      "metadata": {
        "colab": {
          "base_uri": "https://localhost:8080/"
        },
        "id": "WCBiKhvqA20O",
        "outputId": "f8a6167a-f22b-453d-e460-2ed765db572b"
      },
      "execution_count": null,
      "outputs": [
        {
          "output_type": "stream",
          "name": "stdout",
          "text": [
            "Precisão: 0.92\n"
          ]
        }
      ]
    },
    {
      "cell_type": "code",
      "source": [
        "from sklearn.metrics import recall_score\n",
        "\n",
        "recall = recall_score(y_predt,ytest3, average='binary')\n",
        "print(f'Revocação: {recall}')"
      ],
      "metadata": {
        "colab": {
          "base_uri": "https://localhost:8080/"
        },
        "id": "yO5-fbB8A5AH",
        "outputId": "a259ffd5-86d3-476a-de87-9eb8d91daeb7"
      },
      "execution_count": null,
      "outputs": [
        {
          "output_type": "stream",
          "name": "stdout",
          "text": [
            "Revocação: 0.8214285714285714\n"
          ]
        }
      ]
    },
    {
      "cell_type": "code",
      "source": [
        "from sklearn.metrics import f1_score\n",
        "\n",
        "f1 = f1_score(y_predt,ytest3, average='binary')\n",
        "print(f'F1-Score: {f1}')"
      ],
      "metadata": {
        "colab": {
          "base_uri": "https://localhost:8080/"
        },
        "id": "OwjwVJ6CA6iO",
        "outputId": "f9784a9d-f7b3-419d-b5b0-1233f08a2765"
      },
      "execution_count": null,
      "outputs": [
        {
          "output_type": "stream",
          "name": "stdout",
          "text": [
            "F1-Score: 0.8679245283018868\n"
          ]
        }
      ]
    },
    {
      "cell_type": "code",
      "execution_count": null,
      "metadata": {
        "id": "jWqs2c8Rr2bp",
        "colab": {
          "base_uri": "https://localhost:8080/"
        },
        "outputId": "060cee01-e302-43dd-9a97-a4e9a26fba68"
      },
      "outputs": [
        {
          "output_type": "execute_result",
          "data": {
            "text/plain": [
              "array([[ 8,  2],\n",
              "       [ 5, 23]])"
            ]
          },
          "metadata": {},
          "execution_count": 17
        }
      ],
      "source": [
        "cm1 = confusion_matrix(y_predt,ytest3);cm1 #92,101"
      ]
    },
    {
      "cell_type": "code",
      "execution_count": null,
      "metadata": {
        "id": "dsxHBt5-ealt",
        "colab": {
          "base_uri": "https://localhost:8080/",
          "height": 545
        },
        "outputId": "ffdec225-0ef0-4043-8fac-1c545575e700"
      },
      "outputs": [
        {
          "output_type": "display_data",
          "data": {
            "text/plain": [
              "<Figure size 1200x600 with 2 Axes>"
            ],
            "image/png": "[encoded data removed]"
          },
          "metadata": {}
        }
      ],
      "source": [
        "def plot_training_curves(history):\n",
        "    acc = history.history['accuracy']\n",
        "    val_acc = history.history['val_accuracy']\n",
        "    loss = history.history['loss']\n",
        "    val_loss = history.history['val_loss']\n",
        "    epochs_range = range(len(acc))\n",
        "\n",
        "    plt.figure(figsize=(12, 6))\n",
        "\n",
        "    # Plotando acurácia\n",
        "    plt.subplot(1, 2, 1)\n",
        "    plt.plot(epochs_range, acc, label='Acurácia de Treino')\n",
        "    plt.plot(epochs_range, val_acc, label='Acurácia de Validação')\n",
        "    plt.legend(loc='lower right')\n",
        "    plt.title('Acurácia de Treino e Validação')\n",
        "\n",
        "    # Plotando perda\n",
        "    plt.subplot(1, 2, 2)\n",
        "    plt.plot(epochs_range, loss, label='Perda de Treino')\n",
        "    plt.plot(epochs_range, val_loss, label='Perda de Validação')\n",
        "    plt.legend(loc='upper right')\n",
        "    plt.title('Perda de Treino e Validação')\n",
        "\n",
        "    plt.show()\n",
        "\n",
        "# Chamando a função para plotar as curvas\n",
        "plot_training_curves(history)"
      ]
    },
    {
      "cell_type": "code",
      "source": [
        "tf_model.save('tumorceb.h5')"
      ],
      "metadata": {
        "colab": {
          "base_uri": "https://localhost:8080/"
        },
        "id": "7elZJ3wvDe4F",
        "outputId": "6bcc05d5-fccc-4746-8e76-c27962a3d5b5"
      },
      "execution_count": null,
      "outputs": [
        {
          "output_type": "stream",
          "name": "stderr",
          "text": [
            "WARNING:absl:You are saving your model as an HDF5 file via `model.save()` or `keras.saving.save_model(model)`. This file format is considered legacy. We recommend using instead the native Keras format, e.g. `model.save('my_model.keras')` or `keras.saving.save_model(model, 'my_model.keras')`. \n"
          ]
        }
      ]
    },
    {
      "cell_type": "code",
      "source": [
        "from tensorflow.keras.models import load_model\n",
        "\n",
        "# Carregar o modelo HDF5\n",
        "model_loaded = load_model('tumorceb.h5')"
      ],
      "metadata": {
        "colab": {
          "base_uri": "https://localhost:8080/"
        },
        "id": "RaDtDzL7D2cn",
        "outputId": "25be118e-7828-4332-d894-4cd519917ff6"
      },
      "execution_count": 8,
      "outputs": [
        {
          "output_type": "stream",
          "name": "stderr",
          "text": [
            "WARNING:absl:Compiled the loaded model, but the compiled metrics have yet to be built. `model.compile_metrics` will be empty until you train or evaluate the model.\n"
          ]
        }
      ]
    }
  ],
  "metadata": {
    "accelerator": "GPU",
    "colab": {
      "provenance": []
    },
    "kernelspec": {
      "display_name": "Python 3",
      "name": "python3"
    },
    "language_info": {
      "name": "python"
    }
  },
  "nbformat": 4,
  "nbformat_minor": 0
}
